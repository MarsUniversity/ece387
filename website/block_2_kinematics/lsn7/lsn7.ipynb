{
 "cells": [
  {
   "cell_type": "markdown",
   "metadata": {},
   "source": [
    "# Denavit Hartenberg Notation\n",
    "\n",
    "Kevin Walchko\n",
    "Created: 10 July 2017\n",
    "\n",
    "---\n",
    "\n",
    "DH is an attempt to standardize how we represent serial manipulators (i.e., robot arms). It is typically one of the first ways you learn. It is really easy (methodical) to do forward kinematics, but becomes more challenging when doing inverse kinematics.\n",
    "\n",
    "## References\n",
    "\n",
    "- [Wikipedia modified DH](https://en.wikipedia.org/wiki/Denavit%E2%80%93Hartenberg_parameters)\n",
    "- [Wikipedia euler angles](https://en.wikipedia.org/wiki/Euler_angles#Tait.E2.80.93Bryan_angles)\n",
    "- [darpa robot challenge](https://www.youtube.com/watch?v=diaZFIUBMBQ)\n",
    "- [darpa robot fails](https://youtu.be/wX0KagJ1du8)\n",
    "- [Walking robot](https://vimeo.com/194676675)\n",
    "\n",
    "## Setup"
   ]
  },
  {
   "cell_type": "code",
   "execution_count": 1,
   "metadata": {
    "collapsed": true
   },
   "outputs": [],
   "source": [
    "%matplotlib inline"
   ]
  },
  {
   "cell_type": "code",
   "execution_count": 35,
   "metadata": {
    "collapsed": true
   },
   "outputs": [],
   "source": [
    "from __future__ import print_function\n",
    "from __future__ import division\n",
    "import numpy as np\n",
    "import sympy\n",
    "from sympy import symbols, sin, cos, pi, simplify, trigsimp\n",
    "from math import radians as d2r\n",
    "from math import degrees as r2d\n",
    "from math import atan2, sqrt, acos, fabs\n",
    "from pprint import pprint\n",
    "from IPython.display import HTML"
   ]
  },
  {
   "cell_type": "markdown",
   "metadata": {},
   "source": []
  },
  {
   "cell_type": "markdown",
   "metadata": {},
   "source": [
    "# Kinematics\n",
    "\n",
    "Robot arms and legs are hard to control (lots of math), but required for most robotic applications. Kinematics is the study of motion without regard to the forces which cause it. Kinematics of manipulators involves the study of the geometric and time based properties of the motion, and in particular how the various links move with respect to one another and with time.\n",
    "\n",
    "## Coordinate Frames\n",
    "\n",
    "We want to describe positions and orientations of bodies in space\n",
    "\n",
    "- We generally draw a simplified version of the manipulator and attach a “frame” to each rigid body\n",
    "    - The simplified version only has:\n",
    "        - *Revolute joints:* joints that rotate\n",
    "        - *Prismatic joints:* joints that move linearly (think telescoping)\n",
    "    - By combining these in various combinations, we can make anything. For example, a spherical joint (ball-and-socket like your shoulder) is generally composed of 3 co-located (not physically real) rotational joints. This makes the math easier.\n",
    "- The frame follows the serial manipulator's body\n",
    "- There's some freedom in how we choose the frame's position and orientation relative to the body\n",
    "- DH notation partially standardises, however, there are normal DH parameters and modified DH parameters. We are using modified (see reading in Craig)\n",
    "- The combination of position and orientation of a frame is its “pose” ... like in fashion, \"strike a pose\"\n",
    "\n",
    "An example (sort of) is shown below. Notice the real robot is represented as a simpler drawing of little metal bars:\n",
    "\n",
    "![](dh_pics/kuka-kr270.png)\n",
    "\n",
    "The KR270 has 6 joints and is a standard industrial type robot for building cars or what not. Notice again, the wrist, is represented as 2 revolute joints co-located (on top of each other) which is not realistic."
   ]
  },
  {
   "cell_type": "code",
   "execution_count": null,
   "metadata": {
    "collapsed": true
   },
   "outputs": [],
   "source": []
  },
  {
   "cell_type": "markdown",
   "metadata": {},
   "source": [
    "## Coordinate Systems\n",
    "\n",
    "**get pics**\n",
    "\n",
    "- A frame's pose only makes sense relative to another frame, e.g. hand pose relative to forearm pose...\n",
    "- All of our frames will be a righthand-coordinate system (RHS) ... sorry lefties\n",
    "- Everything is relative to some *global* frame\n",
    "    - aka the “inertial frame”\n",
    "- There is some freedom in choosing the *global* frame. However, this is usually a **non-moving** frame (e.g., inertial) and it is typically located some place convenient (i.e., make the math simplier)\n",
    "\n",
    "## Euler Angles\n",
    "\n",
    "![](dh_pics/euler.png)\n",
    "\n",
    "Euler angles describe the moving frame and not the fixed (inertial) frame. They follow the sequence:\n",
    "\n",
    "- rotate about the z-axis\n",
    "- rotate about (the new) y-axis\n",
    "- rotate about (the new) x-axis\n",
    "\n",
    "Please notice, each rotation is dependant on previous rotations.\n",
    "\n",
    "\\begin{eqnarray}\n",
    "  R_{\\phi,x} = \\begin{bmatrix}\n",
    "    \\cos(\\phi) & -\\sin(\\phi) & 0 \\\\\n",
    "    \\sin(\\phi) & \\cos(\\phi) & 0 \\\\\n",
    "    0 & 0 & 1\n",
    "  \\end{bmatrix} \\\\\n",
    "  R_{\\theta,y} = \\begin{bmatrix}\n",
    "    \\cos(\\theta) & -\\sin(\\theta) & 0 \\\\\n",
    "    \\sin(\\theta) & \\cos(\\theta) & 0 \\\\\n",
    "    0 & 0 & 1\n",
    "  \\end{bmatrix} \\\\\n",
    "  R_{\\theta,z} = \\begin{bmatrix}\n",
    "    \\cos(\\theta) & -\\sin(\\theta) & 0 \\\\\n",
    "    \\sin(\\theta) & \\cos(\\theta) & 0 \\\\\n",
    "    0 & 0 & 1\n",
    "  \\end{bmatrix} \\\\\n",
    "\\end{eqnarray}\n",
    "\n",
    "Now, for this class, we are not going to use these here (but you will see them pop-up in later lessons). A nice thing about these rotation matricies, is:\n",
    "\n",
    "$$\n",
    "R^B_A = (R^A_B)^T = (R^A_B)^{-1}\n",
    "$$\n",
    "\n",
    "This is because they are orthonormal (the dot product of the x, y, and z components is 0). This a matrix inverse and matrix transpose produce the same results, which is good since matrix inverse is CPU intensive compared to a matrix transpose.\n",
    "\n",
    "$$\n",
    "R = \\begin{bmatrix}\n",
    "  1 & 2 & 3 \\\\\n",
    "  4 & 5 & 6 \\\\\n",
    "  7 & 8 & 9\n",
    "\\end{bmatrix} \\\\\n",
    "R^T = \\begin{bmatrix}\n",
    "  1 & 4 & 7 \\\\\n",
    "  2 & 5 & 8 \\\\\n",
    "  3 & 6 & 9\n",
    "\\end{bmatrix}\n",
    "$$\n",
    "\n",
    "Notice transpose just turns matrix columns into matrix rows ... no math!\n",
    "\n",
    "## Position and Orientation\n",
    "\n",
    "![](dh_pics/frame1.PNG)\n",
    "\n",
    "Now the position/orientation, or pose, of {B} relative to {A} is:\n",
    "\n",
    "$$\n",
    "P^A = R^A_B P^B\n",
    "$$\n",
    "\n",
    "Now ultimately, we want to know the location of a point in {B} relative to an inertial frame (say the base of our robot arm) in {A}.\n",
    "\n",
    "![](dh_pics/frame2.png)\n",
    "\n",
    "![](dh_pics/frame3.png)\n",
    "\n",
    "What the final equation is saying, is, the position of P in frame A is equal to the offset between {A} and {B} (i.e., $P^A_B$) plus the change in orientation between {A} and {B} (i.e., $R^A_B P^B$). \n",
    "\n",
    "A compact representation of the translation and rotation is known as the **Homogeneous Transformation**. This allows us to cast the rotation and translation of the general transform in a single matrix form.\n",
    "\n",
    "$$\n",
    "T^A_B = \\begin{bmatrix}\n",
    "   & R^A_B & & P^A_B \\\\\n",
    "  0 & 0 & 0 & 1\n",
    "\\end{bmatrix} \\\\\n",
    "\\begin{bmatrix}\n",
    "  P^A \\\\\n",
    "  1\n",
    "\\end{bmatrix} = \n",
    "T^A_B\n",
    "\\begin{bmatrix}\n",
    "  P^B \\\\\n",
    "  1\n",
    "\\end{bmatrix}\n",
    "$$\n",
    "\n",
    "This compact notation allows us to use `numpy` or `matlab` to write series of equations as matricies and do standard matrix operations on them. Now, as we attach frames to serial manipulator links, we will be able to combine these matricies together to calculate where the end effector is.\n",
    "\n",
    "![](dh_pics/frame4.png)\n",
    "\n",
    "## Craig Reading\n",
    "\n",
    "Craig has similar notation, but changes a few things:\n",
    "\n",
    "- homogenious transform is H instead of T\n",
    "- the translation from {A} to {B} is $O^A_B$ (think O for origin) and not P\n",
    "\n",
    "It seems like every author changes some little thing, but they are all similar."
   ]
  },
  {
   "cell_type": "markdown",
   "metadata": {},
   "source": [
    "# Denavit-Hartenberg (DH)\n",
    "\n",
    "Development of the DH forward kinematics for a robot. We will use the DH method to develop the symbolic equations and use python to simplify them.\n",
    "\n",
    "![](https://upload.wikimedia.org/wikipedia/commons/thumb/d/d8/DHParameter.png/609px-DHParameter.png)\n",
    "\n",
    "## Process (Craig, section 3.2.3)\n",
    "\n",
    "Now using ideas from before (see Craig, eqns 3.4 and 3.6):\n",
    "\n",
    "| | | |\n",
    "|------------|:---------|:------------------------------------------------------|\n",
    "| $a_i$      | length   | distance from $z_i$ to $z_{i+1}$ measured along $x_i$ |\n",
    "| $d_i$      | offset   | distance from $x_{i-1}$ to $x_i$ along $z_i$          |\n",
    "| $\\alpha_i$ | twist    | angle from $z_i$ to $z_{i+1}$ measured about $x_i$    |\n",
    "| $\\theta_i$ | rotation | angle from $x_{i−1}$ to $x_i$ measured about $z_i$    |\n",
    "\n",
    "Summary of steps:\n",
    "\n",
    "1. Identify the joint axes and imagine (or draw) infinite lines along them. For steps 2 through 5 below, consider two of these neighboring lines (at axes i and i+1).\n",
    "1. Identify the comon perpendicular betwen them,or point of intersection. At the point of intersection, or at the point where the comon perpendicular mets the ith axis, asign the link-frame origin.\n",
    "1. Asign the Z1 axis pointing along the ith joint axis.\n",
    "1. A sign the axis pointing along the comon perpendicular, or, if the axes intersect, a sign k1 to be normal to the plane containing the two axes.\n",
    "1. Asign the axis to complete a right-hand cordinate system. \n",
    "1. Asign {0} to match {1} when the first joint variable is zero. For {N}, chose an origin location and XN direction freely, but generaly so as to cause as many linkage parameters as possible to become zero.\n",
    "\n",
    "$$\n",
    "\\begin{eqnarray}\n",
    "T^{i-1}_i = R_x(\\alpha_{i-1}) D_x(a_{i-1}) R_z(\\theta_i) D_z(d_i) \\\\\n",
    "T^{i-1}_i = \\begin{bmatrix}\n",
    "  \\cos(\\theta_i)                   & -\\sin(\\theta_i)                  & 0                   & a_{i-1} \\\\\n",
    "  \\sin(\\theta_i)\\cos(\\alpha_{i-1}) & \\cos(\\theta_i)\\cos(\\alpha_{i-1}) & -\\sin(\\alpha_{i-1}) & -\\sin(\\alpha_{i-1})d_i \\\\\n",
    "  \\sin(\\theta_i)\\sin(\\alpha_{i-1}) & \\cos(\\theta_i)\\sin(\\alpha_{i-1}) & \\cos(\\alpha_{i-1})  & \\cos(\\alpha_{i-1})d_i \\\\\n",
    "  0                                & 0                                & 0                   & 1\n",
    "\\end{bmatrix}\n",
    "\\end{eqnarray}\n",
    "$$"
   ]
  },
  {
   "cell_type": "code",
   "execution_count": null,
   "metadata": {},
   "outputs": [],
   "source": [
    "HTML('<iframe src=\"https://player.vimeo.com/video/238147402\" width=\"640\" height=\"360\" frameborder=\"0\" webkitallowfullscreen mozallowfullscreen allowfullscreen></iframe><p><a href=\"https://vimeo.com/238147402\">Denavit&ndash;Hartenberg parameters</a> from <a href=\"https://vimeo.com/user59907133\">kevin</a> on <a href=\"https://vimeo.com\">Vimeo</a>.</p>')"
   ]
  },
  {
   "cell_type": "markdown",
   "metadata": {},
   "source": [
    "## Simple 2D Example\n",
    "\n",
    "Following the process for assigning frames to a manipulator, you get the following:\n",
    "\n",
    "![](dh_pics/2d-ex.png)\n",
    "\n",
    "Looking at the above frames, they are related by:\n",
    "\n",
    "| Link | $a_{i-1}$ | $\\alpha_{i-1}$ | $d_i$ | $\\theta_i$ |\n",
    "|------|-----------|----------------|-------|------------|\n",
    "| 1    | $a_1$ | 0          | 0     | $\\theta_1$ |\n",
    "| 2    | $a_2$ | 0          | 0     | $\\theta_2$ |\n",
    "\n",
    "Now using Craig eqn 3.6, we can substitute these values in and get the relationship between the inertial frame and the end effector. However note, $\\theta_i$ are variable parameters. Typically we want to (but if computational speed isn't important) would simplify these equations down leaving only the theta parameters."
   ]
  },
  {
   "cell_type": "code",
   "execution_count": 17,
   "metadata": {
    "collapsed": true
   },
   "outputs": [],
   "source": [
    "def makeT(a, alpha, d, theta):\n",
    "    # modified DH homogenious matrix\n",
    "    return np.array([\n",
    "        [           cos(theta),           -sin(theta),           0,             a],\n",
    "        [sin(theta)*cos(alpha), cos(theta)*cos(alpha), -sin(alpha), -d*sin(alpha)],\n",
    "        [sin(theta)*sin(alpha), cos(theta)*sin(alpha),  cos(alpha),  d*cos(alpha)],\n",
    "        [                    0,                     0,           0,             1]\n",
    "    ])"
   ]
  },
  {
   "cell_type": "code",
   "execution_count": 42,
   "metadata": {},
   "outputs": [],
   "source": [
    "def simplifyT(tt):\n",
    "    for i, row in enumerate(tt):\n",
    "        for j, col in enumerate(row):\n",
    "            tt[i,j] = simplify(col)\n",
    "    return tt\n",
    "\n",
    "def subs(tt, m):\n",
    "    \"\"\"\n",
    "    This allows you to simplify the trigonomic mess that kinematics can\n",
    "    create and also substitute in some inputs in the process\n",
    "    \"\"\"\n",
    "    for i, row in enumerate(tt):\n",
    "        for j, col in enumerate(row):\n",
    "            try:\n",
    "                tt[i,j] = col.subs(m)\n",
    "            except:\n",
    "                tt[i,j] = col\n",
    "    return tt"
   ]
  },
  {
   "cell_type": "code",
   "execution_count": 46,
   "metadata": {},
   "outputs": [
    {
     "name": "stdout",
     "output_type": "stream",
     "text": [
      "[[cos(t1) -sin(t1) 0 a1]\n",
      " [sin(t1) cos(t1) 0 0]\n",
      " [0 0 1 0]\n",
      " [0 0 0 1]]\n",
      "[[cos(t1 + t2) -sin(t1 + t2) 0 a2]\n",
      " [sin(t1 + t2) cos(t1 + t2) 0 0]\n",
      " [0 0 1 0]\n",
      " [0 0 0 1]]\n",
      "[[-sin(t1)*sin(t1 + t2) + cos(t1)*cos(t1 + t2)\n",
      "  -sin(t1)*cos(t1 + t2) - sin(t1 + t2)*cos(t1) 0 a1 + a2*cos(t1)]\n",
      " [sin(t1)*cos(t1 + t2) + sin(t1 + t2)*cos(t1)\n",
      "  -sin(t1)*sin(t1 + t2) + cos(t1)*cos(t1 + t2) 0 a2*sin(t1)]\n",
      " [0 0 1 0]\n",
      " [0 0 0 1]]\n",
      "[[cos(2*t1 + t2), -sin(2*t1 + t2), 0, a1 + a2*cos(t1)], [sin(2*t1 + t2), cos(2*t1 + t2), 0, a2*sin(t1)], [0, 0, 1, 0], [0, 0, 0, 1]]\n",
      "-------------------------\n",
      "wrong [[cos(2*t1 + t2) -sin(2*t1 + t2) 0 a1*cos(t1 + t2) + a2]\n",
      " [sin(2*t1 + t2) cos(2*t1 + t2) 0 a1*sin(t1 + t2)]\n",
      " [0 0 1 0]\n",
      " [0 0 0 1]]\n"
     ]
    }
   ],
   "source": [
    "# make thetas (t) and link lengths (a) symbolics\n",
    "t1, t2 = symbols('t1 t2')\n",
    "a1, a2 = symbols('a1 a2')\n",
    "\n",
    "T1 = makeT(a1, 0, 0, t1)\n",
    "T2 = makeT(a2, 0, 0, t2)\n",
    "T12 = T1.dot(T2)\n",
    "# print(T0)\n",
    "print(T1)\n",
    "# print(subs(T1, [(t1, 0), (t2, 0)]))\n",
    "print(T2)\n",
    "print(T12)\n",
    "# print(subs(T12, [(t1, 0), (t2, 0)]))\n",
    "ans = simplify(T12)\n",
    "print(ans)\n",
    "print('-'*25)\n",
    "print('wrong', simplifyT(T2.dot(T1)))"
   ]
  },
  {
   "cell_type": "code",
   "execution_count": 23,
   "metadata": {},
   "outputs": [
    {
     "name": "stdout",
     "output_type": "stream",
     "text": [
      "[[cos(t1)*cos(t2) -sin(t2)*cos(t1) sin(t1) L1]\n",
      " [sin(t1)*cos(t2) -sin(t1)*sin(t2) -cos(t1) 0]\n",
      " [sin(t2) cos(t2) 0 0]\n",
      " [0 0 0 1]]\n"
     ]
    }
   ],
   "source": [
    "# craig problem 3.9 p 95\n",
    "# t1, t3 = symbols('t1 t2')\n",
    "# d2, L2 = symbols('d2 L2')\n",
    "\n",
    "T01 = makeT(L1, 0, 0, t1)\n",
    "T12 = makeT(0, pi/2, 0, t2)\n",
    "\n",
    "ans = simplifyT(T01.dot(T12))\n",
    "print(ans)"
   ]
  },
  {
   "cell_type": "code",
   "execution_count": 16,
   "metadata": {},
   "outputs": [
    {
     "name": "stdout",
     "output_type": "stream",
     "text": [
      "[[-sin(t4)*sin(t6) + cos(t4)*cos(t5)*cos(t6)\n",
      "  -sin(t4)*cos(t6) - sin(t6)*cos(t4)*cos(t5) -sin(t5)*cos(t4) a3]\n",
      " [sin(t5)*cos(t6) -sin(t5)*sin(t6) cos(t5) d4]\n",
      " [-sin(t4)*cos(t5)*cos(t6) - sin(t6)*cos(t4)\n",
      "  sin(t4)*sin(t6)*cos(t5) - cos(t4)*cos(t6) sin(t4)*sin(t5) 0]\n",
      " [0 0 0 1]]\n"
     ]
    }
   ],
   "source": [
    "# craig puma\n",
    "t1,t2,t3,t4,t5,t6 = symbols('t1 t2 t3 t4 t5 t6')\n",
    "a2, a3, d3, d4 = symbols('a2 a3 d3 d4')\n",
    "\n",
    "T01 = makeT(0,0,0,t1)\n",
    "T12 = makeT(0,-pi/2,0,t2)\n",
    "T23 = makeT(a2,0,d3,t3)\n",
    "T34 = makeT(a3,-pi/2,d4,t4)\n",
    "T45 = makeT(0,pi/2,0,t5)\n",
    "T56 = makeT(0,-pi/2,0,t6)\n",
    "\n",
    "# print(T45)\n",
    "# print(T56)\n",
    "# print(T45.dot(T56))\n",
    "\n",
    "ans = simplifyT(T34.dot(T45.dot(T56)))\n",
    "print(ans)"
   ]
  },
  {
   "cell_type": "code",
   "execution_count": null,
   "metadata": {
    "collapsed": true
   },
   "outputs": [],
   "source": []
  },
  {
   "cell_type": "markdown",
   "metadata": {},
   "source": [
    "| | |\n",
    "|------------|:------------------------------------------------------|\n",
    "| $a_i$      | distance from $z_i$ to $z_{i+1}$ measured along $x_i$ |\n",
    "| $d_i$      | distance from $x_{i-1}$ to $x_i$ along $z_i$          |\n",
    "| $\\alpha_i$ | angle from $z_i$ to $z_{i+1}$ measured about $x_i$    |\n",
    "| $\\theta_i$ | angle from $x_{i−1}$ to $x_i$ measured about $z_i$    |\n",
    "\n",
    "Summary of steps:\n",
    "\n",
    "1. Identify the joint axes and imagine (or draw) infinite lines along them. For steps 2 through 5 below, consider two of these neighboring lines (at axes i and i+1).\n",
    "1. Identify the comon perpendicular betwen them,or point of intersection. At the point of intersection, or at the point where the comon perpendicular mets the ith axis, asign the link-frame origin.\n",
    "1. Asign the Z1 axis pointing along the ith joint axis.\n",
    "1. A sign the axis pointing along the comon perpendicular, or, if the axes intersect, a sign k1 to be normal to the plane containing the two axes.\n",
    "1. Asign the axis to complete a right-hand cordinate system. \n",
    "1. Asign {0} to match {1} when the first joint variable is zero. For {N}, chose an origin location and XN direction freely, but generaly so as to cause as many linkage parameters as possible to become zero."
   ]
  },
  {
   "cell_type": "markdown",
   "metadata": {
    "collapsed": true
   },
   "source": [
    "## Numerical Forward Kinematics\n",
    "\n",
    "---"
   ]
  },
  {
   "cell_type": "markdown",
   "metadata": {},
   "source": [
    "## Symbolically Solving Forward Kinematics"
   ]
  },
  {
   "cell_type": "markdown",
   "metadata": {},
   "source": [
    "The following class follows the modified [DH convention](https://en.wikipedia.org/wiki/Denavit%E2%80%93Hartenberg_parameters). Where:\n",
    "\n",
    "| Parameter | Definition|\n",
    "|-----------|-----------|\n",
    "| $\\alpha_i$   | angle about common normal, from old z axis to new z axis (twist)|\n",
    "| $d_i$        | offset along previous z to the common normal |\n",
    "| $\\theta_i$   | angle about previous z, from old x to new x |\n",
    "| $a_i$        | length of the common normal. Assuming a revolute joint, this is the radius about previous z. |"
   ]
  },
  {
   "cell_type": "markdown",
   "metadata": {},
   "source": [
    "Now the transformation matrix ($T$), using modified DH parameters, is given by:\n",
    "\n",
    "$$ T = R_x(\\alpha_{n-1}) D_x(a_{n-1}) R_z(\\theta_n) D_z(d_n) $$\n",
    "\n",
    "We can then turn this into a python class as follows:"
   ]
  },
  {
   "cell_type": "markdown",
   "metadata": {},
   "source": [
    "\n",
    "-----------\n",
    "\n",
    "<a rel=\"license\" href=\"http://creativecommons.org/licenses/by-sa/4.0/\"><img alt=\"Creative Commons License\" style=\"border-width:0\" src=\"https://i.creativecommons.org/l/by-sa/4.0/88x31.png\" /></a><br />This work is licensed under a <a rel=\"license\" href=\"http://creativecommons.org/licenses/by-sa/4.0/\">Creative Commons Attribution-ShareAlike 4.0 International License</a>."
   ]
  }
 ],
 "metadata": {
  "kernelspec": {
   "display_name": "Python 2",
   "language": "python",
   "name": "python2"
  },
  "language_info": {
   "codemirror_mode": {
    "name": "ipython",
    "version": 2
   },
   "file_extension": ".py",
   "mimetype": "text/x-python",
   "name": "python",
   "nbconvert_exporter": "python",
   "pygments_lexer": "ipython2",
   "version": "2.7.14"
  }
 },
 "nbformat": 4,
 "nbformat_minor": 1
}
