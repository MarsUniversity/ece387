{
 "cells": [
  {
   "cell_type": "markdown",
   "metadata": {},
   "source": [
    "# Denavit Hartenberg Notation\n",
    "\n",
    "Kevin Walchko\n",
    "Created: 10 July 2017\n",
    "\n",
    "---\n",
    "\n",
    "DH is an attempt to standardize how we represent serial manipulators (i.e., robot arms). It is typically one of the first ways you learn. It is really easy (methodical) to do forward kinematics, but becomes more challenging when doing inverse kinematics.\n",
    "\n",
    "## Objectives\n",
    "\n",
    "- understand coordinate frames\n",
    "- apply rotations and translations to objects in 3d space\n",
    "- calculate DH forward kinematics for a serial link mechanism\n",
    "- understand homogenous transformations\n",
    "- understand Euler sequences\n",
    "\n",
    "## References\n",
    "\n",
    "- [Wikipedia modified DH](https://en.wikipedia.org/wiki/Denavit%E2%80%93Hartenberg_parameters)\n",
    "- [Wikipedia euler angles](https://en.wikipedia.org/wiki/Euler_angles#Tait.E2.80.93Bryan_angles)\n",
    "- [darpa robot challenge](https://www.youtube.com/watch?v=diaZFIUBMBQ)\n",
    "- [darpa robot fails](https://youtu.be/wX0KagJ1du8)\n",
    "- [Walking robot](https://vimeo.com/194676675)\n",
    "- [Euler angles](https://www.learnopencv.com/rotation-matrix-to-euler-angles/)\n",
    "\n",
    "## Setup"
   ]
  },
  {
   "cell_type": "code",
   "execution_count": 1,
   "metadata": {
    "collapsed": true
   },
   "outputs": [],
   "source": [
    "%matplotlib inline"
   ]
  },
  {
   "cell_type": "code",
   "execution_count": 2,
   "metadata": {
    "collapsed": true
   },
   "outputs": [],
   "source": [
    "from __future__ import print_function\n",
    "from __future__ import division\n",
    "import numpy as np\n",
    "\n",
    "from IPython.display import HTML # need this for embedding a movie in an iframe"
   ]
  },
  {
   "cell_type": "markdown",
   "metadata": {},
   "source": [
    "# Kinematics of Serial Manipulators\n",
    "\n",
    "Robot arms and legs are hard to control (lots of math), but required for most robotic applications. Kinematics is the study of motion without regard to the forces which cause it. Kinematics of manipulators involves the study of the geometric and time based properties of the motion, and in particular how the various links move with respect to one another and with time.\n",
    "\n",
    "**Pose:** The combination of position and orientation of a frame relative to a reference or inertial frame. Think [*Zoolander*](http://www.imdb.com/title/tt0196229/) on a fashion shoot, \"strike a pose\"\n",
    "\n",
    "This lesson will talk about matrix and vector operations. A nice review of the various mathematical operators is [wikipedia](https://en.wikipedia.org/wiki/Matrix_multiplication). Take a look at how you multiply 2 matrices together (Matrix Product (two matrices)) and it will give you an idea of how it works. Ultimately we will use `numpy` to do these operations for us.\n",
    "\n",
    "## Coordinate Frames\n",
    "\n",
    "![](dh_pics/right_hand_axes.jpg)\n",
    "\n",
    "We want to describe positions and orientations of bodies in space relative to a [reference](https://en.wikipedia.org/wiki/Frame_of_reference) (or in some cases an [inertial](https://en.wikipedia.org/wiki/Inertial_frame_of_reference)) frame.\n",
    "\n",
    "## Manipulators\n",
    "\n",
    "![](dh_pics/parallel.jpg)\n",
    "\n",
    "![](dh_pics/serial.png)\n",
    "\n",
    "There are 2 types of manipulators in robotics: serial and parallel. They are used in different application for manufacturing. \n",
    "\n",
    "| Type     | Pro                     | Con                        |\n",
    "|----------|-------------------------|----------------------------|\n",
    "| Serial   | easy forward kinematics | complex inverse kinematics |\n",
    "| Parallel | easy inverse kinematics | complex forward kinematics |\n",
    "\n",
    "For this class we are going to focus on serial manipulators. \n",
    "\n",
    "## Serial Manipulators\n",
    "\n",
    "- We generally draw a simplified version of the manipulator and attach a “frame” to each rigid body link\n",
    "    - The simplified version only has:\n",
    "        - *Revolute joints:* joints that rotate\n",
    "        - *Prismatic joints:* joints that move linearly (think telescoping)\n",
    "    - By combining these in various combinations, we can make anything. For example, a spherical joint (ball-and-socket like your shoulder) is generally composed of 3 co-located (not physically real) rotational joints. This makes the math easier.\n",
    "- The frames follow the serial manipulator's body\n",
    "- All of our frames will be a righthand-coordinate system (RHS) ... sorry lefties\n",
    "- There's some freedom in how we choose the frame's position and orientation relative to the body\n",
    "- DH notation partially standardizes this process, however, there are classical DH parameters and modified DH parameters. We are using modified (see reading in Craig). In the end you end up with the same equations, however, some people (i.e., Craig) didn't like how the classical notation was written.\n",
    "\n",
    "An example (sort of) is shown below. Notice the real robot is represented as a simpler drawing of little metal bars:\n",
    "\n",
    "![](dh_pics/kuka-kr270.png)\n",
    "\n",
    "The KR270 has 6 joints and is a standard industrial type robot for manufacturing. Notice again, the wrist, is represented as 2 revolute joints co-located (on top of each other) which is not realistic."
   ]
  },
  {
   "cell_type": "markdown",
   "metadata": {},
   "source": [
    "## Euler Angles\n",
    "\n",
    "<img src=\"dh_pics/euler.png\" width=\"400px\">\n",
    "\n",
    "Euler angles describe the moving frame and not the fixed (inertial) frame. They follow the sequence (see Craig eqn 2.70) will descibe the end-effector (or the aircraft pictured above) relative to the fixed frame:\n",
    "\n",
    "- **Roll:** rotate about the x-axis\n",
    "- **Pitch:** rotate about (the new) y-axis\n",
    "- **Yaw:** rotate about (the new) y-axis\n",
    "\n",
    "Please notice, each rotation is dependant on previous rotations. Also notice, you can tell which axis the rotation is around by looking for the **1** in the matrix.\n",
    "\n",
    "\\begin{eqnarray}\n",
    "  R_x(\\gamma) = \\begin{bmatrix}\n",
    "    1 & 0 & 0 \\\\\n",
    "    0 & \\cos(\\gamma) & -\\sin(\\gamma) \\\\\n",
    "    0 & \\sin(\\gamma) & \\cos(\\gamma)\n",
    "  \\end{bmatrix} \\\\\n",
    "  R_y(\\beta) = \\begin{bmatrix}\n",
    "    \\cos(\\beta) & 0 & \\sin(sin(\\beta) \\\\\n",
    "    0 & 1 & 0 \\\\\n",
    "    -\\sin(\\beta) & 0 & \\cos(\\beta)\n",
    "  \\end{bmatrix} \\\\\n",
    "  R_z(\\alpha) = \\begin{bmatrix}\n",
    "    \\cos(\\alpha) & -\\sin(\\alpha) & 0 \\\\\n",
    "    \\sin(\\alpha) & \\cos(\\alpha) & 0 \\\\\n",
    "    0 & 0 & 1\n",
    "  \\end{bmatrix} \\\\\n",
    "  R^A_B = R_z(\\alpha) R_y(\\beta) R_x(\\gamma)\n",
    "\\end{eqnarray}\n",
    "\n",
    "\n",
    "Now, for this class, we are not going to use these here, but you will see them pop-up in later lessons which is why I mention them. A nice thing about these rotation matricies, is:\n",
    "\n",
    "$$\n",
    "R^B_A = (R^A_B)^T = (R^A_B)^{-1}\n",
    "$$\n",
    "\n",
    "This is because they are orthonormal (the dot product of the x, y, and z components is 0). This means a matrix inverse and matrix transpose produce the same results, which is good since matrix inverse is CPU intensive compared to a matrix transpose (shown below).\n",
    "\n",
    "$$\n",
    "R = \\begin{bmatrix}\n",
    "  1 & 2 & 3 \\\\\n",
    "  4 & 5 & 6 \\\\\n",
    "  7 & 8 & 9\n",
    "\\end{bmatrix} \\\\\n",
    "R^T = \\begin{bmatrix}\n",
    "  1 & 4 & 7 \\\\\n",
    "  2 & 5 & 8 \\\\\n",
    "  3 & 6 & 9\n",
    "\\end{bmatrix}\n",
    "$$\n",
    "\n",
    "Notice a transpose just turns matrix columns into matrix rows ... no math!\n",
    "\n",
    "## Position and Orientation\n",
    "\n",
    "[](dh_pics/frame1.png)\n",
    "\n",
    "<img src=\"dh_pics/frame1.png\" width=\"400px\">\n",
    "\n",
    "Now the position/orientation, or pose, of {B} relative to {A} is:\n",
    "\n",
    "$$\n",
    "P^A = R^A_B P^B\n",
    "$$\n",
    "\n",
    "Now ultimately, we want to know the location of a point in {B} relative to an inertial frame (say the base of our robot arm) in {A}.\n",
    "\n",
    "<img src=\"dh_pics/frame2.png\" width=\"400px\">\n",
    "\n",
    "<img src=\"dh_pics/frame3.png\" width=\"400px\">\n",
    "\n",
    "What the final equation means, is, the position of $P^B$ in frame A is equal to the offset between {A} and {B} (i.e., $P^A_B$) plus the change in orientation between {A} and {B} (i.e., $R^A_B P^B$). \n",
    "\n",
    "A compact representation of the translation and rotation is known as the **Homogeneous Transformation**. This allows us to cast the rotation and translation of the general transform in a single matrix form.\n",
    "\n",
    "$$\n",
    "T^A_B = \\begin{bmatrix}\n",
    "   & R^A_B & & P^A_B \\\\\n",
    "  0 & 0 & 0 & 1\n",
    "\\end{bmatrix} \\\\\n",
    "\\begin{bmatrix}\n",
    "  P^A \\\\\n",
    "  1\n",
    "\\end{bmatrix} = \n",
    "T^A_B\n",
    "\\begin{bmatrix}\n",
    "  P^B \\\\\n",
    "  1\n",
    "\\end{bmatrix}\n",
    "$$\n",
    "\n",
    "This compact notation allows us to use `numpy` or `matlab` to write series of equations as matricies and do standard matrix operations on them. Now, as we attach frames to serial manipulator links, we will be able to combine these matricies together to calculate where the end effector is.\n",
    "\n",
    "<img src=\"dh_pics/frame4.png\" width=\"600px\">"
   ]
  },
  {
   "cell_type": "markdown",
   "metadata": {},
   "source": [
    "# Denavit-Hartenberg (DH)\n",
    "\n",
    "Development of the DH forward kinematics for a robot. We will use the DH method to develop the symbolic equations and use python to simplify them.\n",
    "\n",
    "![](https://upload.wikimedia.org/wikipedia/commons/thumb/d/d8/DHParameter.png/609px-DHParameter.png)\n",
    "\n",
    "## Process (Craig, section 3.4, pg 67)\n",
    "\n",
    "Now using ideas from before (see Craig, eqns 3.4 and 3.6):\n",
    "\n",
    "| | | |\n",
    "|------------|:---------|:------------------------------------------------------|\n",
    "| $a_i$      | length   | distance from $z_i$ to $z_{i+1}$ measured along $x_i$ |\n",
    "| $d_i$      | offset   | distance from $x_{i-1}$ to $x_i$ along $z_i$          |\n",
    "| $\\alpha_i$ | twist    | angle from $z_i$ to $z_{i+1}$ measured about $x_i$    |\n",
    "| $\\theta_i$ | rotation | angle from $x_{i−1}$ to $x_i$ measured about $z_i$    |\n",
    "\n",
    "Summary of steps:\n",
    "\n",
    "1. Identify the joint axes and imagine (or draw) infinite lines along them. For steps 2 through 5 below, consider two of these neighboring lines (at axes i and i+1).\n",
    "1. Identify the comon perpendicular betwen them,or point of intersection. At the point of intersection, or at the point where the comon perpendicular mets the ith axis, asign the link-frame origin.\n",
    "1. Asign the $Z_i$ axis pointing along the ith joint axis.\n",
    "1. A sign the axis pointing along the comon perpendicular, or, if the axes intersect, asign k1 to be normal to the plane containing the two axes.\n",
    "1. Asign the y axis to complete a right-hand cordinate system ... honestly don't draw y-axis \n",
    "1. Asign {0} to match {1} when the first joint variable is zero. For {N}, chose an origin location and $X_N$ direction freely, but generaly so as to cause as many linkage parameters as possible to become zero.\n",
    "\n",
    "Now, once you have the parameters, you can enter them into the followng matrix to get the relationship between from i and frame i+1. Note, that these are **not** euler angles, but rather:\n",
    "\n",
    "1. A translation along z by d\n",
    "1. Rotation about z by $\\theta$\n",
    "1. translation along x by a\n",
    "1. Rotation about x by $\\alpha$\n",
    "\n",
    "$$\n",
    "\\begin{eqnarray}\n",
    "T^{i-1}_i = R_x(\\alpha_{i-1}) D_x(a_{i-1}) R_z(\\theta_i) D_z(d_i) \\\\\n",
    "T^{i-1}_i = \\begin{bmatrix}\n",
    "  \\cos(\\theta_i)                   & -\\sin(\\theta_i)                  & 0                   & a_{i-1} \\\\\n",
    "  \\sin(\\theta_i)\\cos(\\alpha_{i-1}) & \\cos(\\theta_i)\\cos(\\alpha_{i-1}) & -\\sin(\\alpha_{i-1}) & -\\sin(\\alpha_{i-1})d_i \\\\\n",
    "  \\sin(\\theta_i)\\sin(\\alpha_{i-1}) & \\cos(\\theta_i)\\sin(\\alpha_{i-1}) & \\cos(\\alpha_{i-1})  & \\cos(\\alpha_{i-1})d_i \\\\\n",
    "  0                                & 0                                & 0                   & 1\n",
    "\\end{bmatrix}\n",
    "\\end{eqnarray}\n",
    "$$\n",
    "\n",
    "Then you can multiply these matricies together to get the transform from base frame {0} to end effector frame {3} by: $T^0_3 = T^0_1 T^1_2 T^2_3$"
   ]
  },
  {
   "cell_type": "code",
   "execution_count": null,
   "metadata": {
    "collapsed": true
   },
   "outputs": [],
   "source": [
    "HTML('<iframe src=\"https://player.vimeo.com/video/238147402\" width=\"640\" height=\"360\" frameborder=\"0\" webkitallowfullscreen mozallowfullscreen allowfullscreen></iframe><p><a href=\"https://vimeo.com/238147402\">Denavit&ndash;Hartenberg parameters</a> from <a href=\"https://vimeo.com/user59907133\">kevin</a> on <a href=\"https://vimeo.com\">Vimeo</a>.</p>')"
   ]
  },
  {
   "cell_type": "markdown",
   "metadata": {},
   "source": [
    "# KUKA KR270 Example\n",
    "\n",
    "![](dh_pics/kuka-kr270.png)\n",
    "\n",
    "Now following the steps above, we get (**note:** my frames are a little different than the picture):\n",
    "\n",
    "| Link | $a_{i-1}$ | $\\alpha_{i-1}$ | $d_i$ | $\\theta_i$ |\n",
    "|------|-----------|----------------|-------|------------|\n",
    "| 1    | 0         | 0              | $d_1$ | $\\theta_1$ |\n",
    "| 2    | $a_1$     | 90             | 0     | $\\theta_2$ |\n",
    "| 3    | $a_2$     | 0              | 0     | $\\theta_3$ |\n",
    "| 4    | $a_3$     | 90             | $d_4$ | $\\theta_4$ |\n",
    "| 5    | 0         | 90             | $d_5$ | $\\theta_5$ |\n",
    "| 6    | 0         | -90            | 0     | $\\theta_6$ |"
   ]
  },
  {
   "cell_type": "markdown",
   "metadata": {},
   "source": [
    "## Simple 2D Example\n",
    "\n",
    "Following the process for assigning frames to a manipulator, you get the following:\n",
    "\n",
    "![](dh_pics/2d-ex.png)\n",
    "\n",
    "Looking at the above frames, they are related by:\n",
    "\n",
    "| Link | $a_{i-1}$ | $\\alpha_{i-1}$ | $d_i$ | $\\theta_i$ |\n",
    "|------|-----------|----------------|-------|------------|\n",
    "| 1    | 0     | 0          | 0     | $\\theta_1$ |\n",
    "| 2    | $a_1$ | 0          | 0     | $\\theta_2$ |\n",
    "| 3    | $a_2$ | 0          | 0     | 0          |\n",
    "\n",
    "Now using Craig eqn 3.6, we can substitute these values in and get the relationship between the inertial frame and the end effector. However note, $\\theta_i$ are variable parameters. Typically we would simplify these equations down leaving only the theta parameters. Let's use the python symbolic toolbox to generate the equations of motion."
   ]
  },
  {
   "cell_type": "code",
   "execution_count": 3,
   "metadata": {
    "collapsed": true
   },
   "outputs": [],
   "source": [
    "# Let's grab some libraries to help us manipulate symbolic equations\n",
    "import sympy\n",
    "from sympy import symbols, sin, cos, pi, simplify\n",
    "\n",
    "def makeT(a, alpha, d, theta):\n",
    "    # create a modified DH homogenious matrix\n",
    "    return np.array([\n",
    "        [           cos(theta),           -sin(theta),           0,             a],\n",
    "        [sin(theta)*cos(alpha), cos(theta)*cos(alpha), -sin(alpha), -d*sin(alpha)],\n",
    "        [sin(theta)*sin(alpha), cos(theta)*sin(alpha),  cos(alpha),  d*cos(alpha)],\n",
    "        [                    0,                     0,           0,             1]\n",
    "    ])\n",
    "\n",
    "def simplifyT(tt):\n",
    "    \"\"\"\n",
    "    This goes through each element of a matrix and tries to simplify it.\n",
    "    \"\"\"\n",
    "    for i, row in enumerate(tt):\n",
    "        for j, col in enumerate(row):\n",
    "            tt[i,j] = simplify(col)\n",
    "    return tt\n",
    "\n",
    "# def subs(tt, m):\n",
    "#     \"\"\"\n",
    "#     This allows you to simplify the trigonomic mess that kinematics can\n",
    "#     create and also substitute in some inputs in the process\n",
    "#     \"\"\"\n",
    "#     for i, row in enumerate(tt):\n",
    "#         for j, col in enumerate(row):\n",
    "#             try:\n",
    "#                 tt[i,j] = col.subs(m)\n",
    "#             except:\n",
    "#                 tt[i,j] = col\n",
    "#     return tt"
   ]
  },
  {
   "cell_type": "code",
   "execution_count": 4,
   "metadata": {},
   "outputs": [
    {
     "name": "stdout",
     "output_type": "stream",
     "text": [
      "T1 =  [[cos(t1) -sin(t1) 0 0]\n",
      " [sin(t1) cos(t1) 0 0]\n",
      " [0 0 1 0]\n",
      " [0 0 0 1]]\n",
      "T2 =  [[cos(t2) -sin(t2) 0 a1]\n",
      " [sin(t2) cos(t2) 0 0]\n",
      " [0 0 1 0]\n",
      " [0 0 0 1]]\n",
      "T3 =  [[1 0 0 a2]\n",
      " [0 1 0 0]\n",
      " [0 0 1 0]\n",
      " [0 0 0 1]]\n",
      "\n",
      "So the combined homogenious matrix is:\n",
      "\n",
      "T13 =  [[-sin(t1)*sin(t2) + cos(t1)*cos(t2) -sin(t1)*cos(t2) - sin(t2)*cos(t1) 0\n",
      "  -a2*sin(t1)*sin(t2) + (a1 + a2*cos(t2))*cos(t1)]\n",
      " [sin(t1)*cos(t2) + sin(t2)*cos(t1) -sin(t1)*sin(t2) + cos(t1)*cos(t2) 0\n",
      "  a2*sin(t2)*cos(t1) + (a1 + a2*cos(t2))*sin(t1)]\n",
      " [0 0 1 0]\n",
      " [0 0 0 1]]\n"
     ]
    }
   ],
   "source": [
    "# make thetas (t) and link lengths (a) symbolics\n",
    "t1, t2 = symbols('t1 t2')\n",
    "a1, a2 = symbols('a1 a2')\n",
    "\n",
    "# let's create our matrices\n",
    "T1 = makeT(0, 0, 0, t1)\n",
    "T2 = makeT(a1, 0, 0, t2)\n",
    "T3 = makeT(a2, 0, 0, 0)\n",
    "\n",
    "# T13 = T1 * T2 * T3\n",
    "T13 = T1.dot(T2.dot(T3))\n",
    "\n",
    "print('T1 = ', T1)\n",
    "print('T2 = ', T2)\n",
    "print('T3 = ', T3)\n",
    "print('\\nSo the combined homogenious matrix is:\\n')\n",
    "print('T13 = ', T13)"
   ]
  },
  {
   "cell_type": "markdown",
   "metadata": {},
   "source": [
    "So that looks a little messy with all of the sines and cosines ... let's use the python symbolic capabilities in `sympy` to help us reduce this a little and figure out where the end-effector is relative to the base (e.g. inertial frame)."
   ]
  },
  {
   "cell_type": "code",
   "execution_count": 5,
   "metadata": {},
   "outputs": [
    {
     "name": "stdout",
     "output_type": "stream",
     "text": [
      "[[cos(t1 + t2) -sin(t1 + t2) 0 a1*cos(t1) + a2*cos(t1 + t2)]\n",
      " [sin(t1 + t2) cos(t1 + t2) 0 a1*sin(t1) + a2*sin(t1 + t2)]\n",
      " [0 0 1 0]\n",
      " [0 0 0 1]]\n",
      "-------------------------\n",
      "position x: a1*cos(t1) + a2*cos(t1 + t2)\n",
      "position y: a1*sin(t1) + a2*sin(t1 + t2)\n"
     ]
    }
   ],
   "source": [
    "ans = simplifyT(T13)\n",
    "print(ans)\n",
    "print('-'*25)\n",
    "print('position x: {}'.format(ans[0,3]))\n",
    "print('position y: {}'.format(ans[1,3]))"
   ]
  },
  {
   "cell_type": "markdown",
   "metadata": {
    "collapsed": true
   },
   "source": [
    "Later, we will derive the same 2 link manipulator a different way and come up with the same equations for position of the end-effector in the x, y plane. For simple manipulators, DH is overkill, however, for most real manipulators (remember the DARPA videos), it is useful to understand what is going on if you do robotics."
   ]
  },
  {
   "cell_type": "markdown",
   "metadata": {},
   "source": [
    "# Question\n",
    "\n",
    "Practice makes perfect. Try to do the following from Craig so you will have success on the GR.\n",
    "\n",
    "- Puma Figure 3.18, try to get the same DH parameters as in table 3-21.\n",
    "- Yasukawa L-3, Figure 3.25, answers in table 3.26 "
   ]
  },
  {
   "cell_type": "markdown",
   "metadata": {},
   "source": []
  },
  {
   "cell_type": "code",
   "execution_count": 7,
   "metadata": {},
   "outputs": [
    {
     "name": "stdout",
     "output_type": "stream",
     "text": [
      "[[ 1.0*((sin(t1)*sin(t4) + cos(t1)*cos(t4)*cos(t2 + t3))*cos(t5) - sin(t5)*sin(t2 + t3)*cos(t1))*cos(t6) + 1.0*(sin(t1)*cos(t4) - sin(t4)*cos(t1)*cos(t2 + t3))*sin(t6)\n",
      "  1.0*(-(sin(t1)*sin(t4) + cos(t1)*cos(t4)*cos(t2 + t3))*cos(t5) + sin(t5)*sin(t2 + t3)*cos(t1))*sin(t6) + 1.0*(sin(t1)*cos(t4) - sin(t4)*cos(t1)*cos(t2 + t3))*cos(t6)\n",
      "  -1.0*(sin(t1)*sin(t4) + cos(t1)*cos(t4)*cos(t2 + t3))*sin(t5) - 1.0*sin(t2 + t3)*cos(t1)*cos(t5)\n",
      "  1.0*a2*cos(t1)*cos(t2) + 1.0*a3*cos(t1)*cos(t2 + t3) - 1.0*d3*sin(t1) - 1.0*d4*sin(t2 + t3)*cos(t1)]\n",
      " [ 1.0*((sin(t1)*cos(t4)*cos(t2 + t3) - sin(t4)*cos(t1))*cos(t5) - sin(t1)*sin(t5)*sin(t2 + t3))*cos(t6) - 1.0*(sin(t1)*sin(t4)*cos(t2 + t3) + cos(t1)*cos(t4))*sin(t6)\n",
      "  1.0*((-sin(t1)*cos(t4)*cos(t2 + t3) + sin(t4)*cos(t1))*cos(t5) + sin(t1)*sin(t5)*sin(t2 + t3))*sin(t6) - 1.0*(sin(t1)*sin(t4)*cos(t2 + t3) + cos(t1)*cos(t4))*cos(t6)\n",
      "  1.0*(-sin(t1)*cos(t4)*cos(t2 + t3) + sin(t4)*cos(t1))*sin(t5) - 1.0*sin(t1)*sin(t2 + t3)*cos(t5)\n",
      "  1.0*a2*sin(t1)*cos(t2) + 1.0*a3*sin(t1)*cos(t2 + t3) + 1.0*d3*cos(t1) - 1.0*d4*sin(t1)*sin(t2 + t3)]\n",
      " [ -1.0*(sin(t5)*cos(t2 + t3) + sin(t2 + t3)*cos(t4)*cos(t5))*cos(t6) + 1.0*sin(t4)*sin(t6)*sin(t2 + t3)\n",
      "  1.0*(sin(t5)*cos(t2 + t3) + sin(t2 + t3)*cos(t4)*cos(t5))*sin(t6) + 1.0*sin(t4)*sin(t2 + t3)*cos(t6)\n",
      "  1.0*sin(t5)*sin(t2 + t3)*cos(t4) - 1.0*cos(t5)*cos(t2 + t3)\n",
      "  -1.0*a2*sin(t2) - 1.0*a3*sin(t2 + t3) - 1.0*d4*cos(t2 + t3)]\n",
      " [0 0 0 1.00000000000000]]\n",
      "-------------------------\n",
      "position x: 1.0*a2*cos(t1)*cos(t2) + 1.0*a3*cos(t1)*cos(t2 + t3) - 1.0*d3*sin(t1) - 1.0*d4*sin(t2 + t3)*cos(t1)\n",
      "position y: 1.0*a2*sin(t1)*cos(t2) + 1.0*a3*sin(t1)*cos(t2 + t3) + 1.0*d3*cos(t1) - 1.0*d4*sin(t1)*sin(t2 + t3)\n",
      "position z: -1.0*a2*sin(t2) - 1.0*a3*sin(t2 + t3) - 1.0*d4*cos(t2 + t3)\n"
     ]
    }
   ],
   "source": [
    "# craig puma\n",
    "t1,t2,t3,t4,t5,t6 = symbols('t1 t2 t3 t4 t5 t6')\n",
    "a2, a3, d3, d4 = symbols('a2 a3 d3 d4')\n",
    "\n",
    "T1 = makeT(0,0,0,t1)\n",
    "T2 = makeT(0,-pi/2,0,t2)\n",
    "T3 = makeT(a2,0,d3,t3)\n",
    "T4 = makeT(a3,-pi/2,d4,t4)\n",
    "T5 = makeT(0,pi/2,0,t5)\n",
    "T6 = makeT(0,-pi/2,0,t6)\n",
    "\n",
    "# print(T45)\n",
    "# print(T56)\n",
    "# print(T45.dot(T56))\n",
    "\n",
    "ans = np.eye(4)\n",
    "for T in [T1, T2, T3, T4, T5, T6]:\n",
    "    ans = ans.dot(T)\n",
    "\n",
    "ans = simplifyT(ans)\n",
    "print(ans)\n",
    "print('-'*25)\n",
    "print('position x: {}'.format(ans[0,3]))\n",
    "print('position y: {}'.format(ans[1,3]))\n",
    "print('position z: {}'.format(ans[2,3]))"
   ]
  },
  {
   "cell_type": "markdown",
   "metadata": {
    "collapsed": true
   },
   "source": [
    "Looking at the position, this is the same position listed in Craig, eqn 3.14."
   ]
  },
  {
   "cell_type": "markdown",
   "metadata": {},
   "source": [
    "\n",
    "-----------\n",
    "\n",
    "<a rel=\"license\" href=\"http://creativecommons.org/licenses/by-sa/4.0/\"><img alt=\"Creative Commons License\" style=\"border-width:0\" src=\"https://i.creativecommons.org/l/by-sa/4.0/88x31.png\" /></a><br />This work is licensed under a <a rel=\"license\" href=\"http://creativecommons.org/licenses/by-sa/4.0/\">Creative Commons Attribution-ShareAlike 4.0 International License</a>."
   ]
  },
  {
   "cell_type": "code",
   "execution_count": null,
   "metadata": {},
   "outputs": [],
   "source": []
  }
 ],
 "metadata": {
  "kernelspec": {
   "display_name": "Python 2",
   "language": "python",
   "name": "python2"
  },
  "language_info": {
   "codemirror_mode": {
    "name": "ipython",
    "version": 2
   },
   "file_extension": ".py",
   "mimetype": "text/x-python",
   "name": "python",
   "nbconvert_exporter": "python",
   "pygments_lexer": "ipython2",
   "version": "2.7.14"
  }
 },
 "nbformat": 4,
 "nbformat_minor": 1
}
