{
 "cells": [
  {
   "cell_type": "markdown",
   "metadata": {},
   "source": [
    "# Denavit Hartenberg Notation\n",
    "\n",
    "Kevin Walchko\n",
    "Created: 10 July 2017\n",
    "\n",
    "---\n",
    "\n",
    "Denavit Hartenberg (DH) is an attempt to standardize how we represent serial manipulators (i.e., robot arms). It is typically one of the first ways you learn. It is really easy (methodical) to do forward kinematics, but becomes more challenging when doing inverse kinematics. Here we are going to introduce what is goning on, but you need to focus on the DH process. If you follow the process, then all will work out fine. Don't get too hung up on the begining math, understand the concepts so you can follow the DH process.\n",
    "\n",
    "## Objectives\n",
    "\n",
    "- understand coordinate frames (we will see these again)\n",
    "- apply rotations and translations to objects in 3d space (we will see these again)\n",
    "- calculate DH forward kinematics for a serial link mechanism\n",
    "- understand homogenous transformations (we will see these again)\n",
    "- understand Euler sequences (we will see these again)\n",
    "\n",
    "## References\n",
    "\n",
    "- [Wikipedia modified DH](https://en.wikipedia.org/wiki/Denavit%E2%80%93Hartenberg_parameters)\n",
    "- [darpa robot challenge](https://www.youtube.com/watch?v=diaZFIUBMBQ)\n",
    "- [darpa robot fails](https://youtu.be/wX0KagJ1du8)\n",
    "- [Walking robot](https://vimeo.com/194676675)\n",
    "\n",
    "## Setup"
   ]
  },
  {
   "cell_type": "code",
   "execution_count": 1,
   "metadata": {},
   "outputs": [],
   "source": [
    "%matplotlib inline\n",
    "\n",
    "from __future__ import print_function\n",
    "from __future__ import division\n",
    "import numpy as np\n",
    "from math import cos, sin, pi\n",
    "\n",
    "from IPython.display import HTML # need this for embedding a movie in an iframe"
   ]
  },
  {
   "cell_type": "markdown",
   "metadata": {},
   "source": [
    "# Rise of the Robots\n",
    "\n",
    "Robot arms and legs are hard to control (lots of math), but are required for most robotic applications. \n",
    "\n",
    "<img src=\"pics/oe.png\" width=\"50%\">\n",
    "\n",
    "DARPA Orbital Express, was a space robotics demo to perform on-orbit survicing (repair, refueling, etc). This demo proved if we build modular satellites, we can extend the on-orbit life.\n",
    "\n",
    "<img src=\"pics/eod.jpg\" width=\"50%\">\n",
    "\n",
    "EOD robots used to neutralize IEDs. Their arm is equiped with a [variety of payloads](http://www.army-technology.com/projects/irobot-510-packbot-multi-mission-robot/) to handle various types of IEDs.\n",
    "\n",
    "<img src=\"pics/arm.jpg\" width=\"50%\">\n",
    "\n",
    "Prosthetic limbs in the olden days werew a wooden peg to replace your leg. Today, robotic arms and legs are becomming fully functional replacements, [controlled via neural impulses](http://www.jhuapl.edu/newscenter/stories/st120524.asp) from the person. Although people might tie these robotic limbs to the rise of cyborgs, but depending on your definition of cyborg, you could also call a person with an implanted pacemaker a cyborg (see definition below).\n",
    "\n",
    "**Cyborg:** [*noun*] a person whose physiological functioning is aided by or dependent upon a mechanical or electronic device. [ref](http://www.dictionary.com/browse/cyborg)\n",
    "\n",
    "# Kinematics of Serial Manipulators\n",
    "\n",
    "Kinematics is the study of motion without regard to the forces which cause it. Kinematics of manipulators involves the study of the geometric and time based properties of the motion, and in particular how the various links move with respect to one another and with time.\n",
    "\n",
    "**Pose:** The combination of position and orientation of a frame relative to a reference or inertial frame. Think [*Zoolander*](http://www.imdb.com/title/tt0196229/) on a fashion shoot, \"strike a pose\"\n",
    "\n",
    "This lesson will talk about matrix and vector operations. A nice review of the various mathematical operators is [wikipedia](https://en.wikipedia.org/wiki/Matrix_multiplication). Take a look at how you multiply 2 matrices together (Matrix Product (two matrices)) and it will give you an idea of how it works. Ultimately we will use `numpy` to do these operations for us.\n",
    "\n",
    "## Coordinate Frames\n",
    "\n",
    "![](dh_pics/right_hand_axes.jpg)\n",
    "\n",
    "We want to describe positions and orientations of bodies in space relative to a [reference](https://en.wikipedia.org/wiki/Frame_of_reference) (or in some cases an [inertial](https://en.wikipedia.org/wiki/Inertial_frame_of_reference)) frame. So if we wanted to know where something was, we could define it from this coordinate frame as $[x,y,z]$.\n",
    "\n",
    "We are going to make this more complex and define multiple coordinate frames, which will all be rotated in some fashion, and try to determine a point (maybe the end-effector of a robot arm) relative to a base (inertial) reference frame.\n",
    "\n",
    "## Manipulators\n",
    "\n",
    "![](dh_pics/parallel.gif)\n",
    "\n",
    "![](dh_pics/serial.png)\n",
    "\n",
    "There are 2 types of manipulators in robotics: serial and parallel. They are used in different applications for manufacturing. \n",
    "\n",
    "Definitions:\n",
    "\n",
    "- **Forward Kinematics:** Given a robot's joint angles, where is the robot's end-effector located?\n",
    "- **Inverse Kinematics:** Given a point in 3D space where we want the end-effector, what are the joint angles to get us there?\n",
    "\n",
    "For most robotic applications, we need to be able to calculate both the forward and reverse.\n",
    "\n",
    "| Type     | Pro                     | Con                        |\n",
    "|----------|-------------------------|----------------------------|\n",
    "| Serial   | easy forward kinematics | complex inverse kinematics |\n",
    "| Parallel | easy inverse kinematics | complex forward kinematics |\n",
    "\n",
    "For this class we are going to focus on serial manipulators. \n",
    "\n",
    "## Serial Manipulators\n",
    "\n",
    "- We generally draw a simplified version of the manipulator and attach a “frame” to each rigid body link\n",
    "    - The simplified version only has:\n",
    "        - *Revolute joints:* joints that rotate\n",
    "        - *Prismatic joints:* joints that move linearly (think telescoping)\n",
    "    - By combining these in various combinations, we can make anything. For example, a spherical joint (ball-and-socket like your shoulder) is generally composed of 3 co-located (not physically real) rotational joints. This makes the math easier.\n",
    "- The frames follow the serial manipulator's body\n",
    "- All of our frames will be a righthand-coordinate system (RHS) ... sorry lefties\n",
    "- There's some freedom in how we choose the frame's position and orientation relative to the body\n",
    "- Denavit-Hartenberg (DH) notation partially standardizes this process, however, there are classical DH parameters and modified DH parameters. We are using modified (see reading in Craig). In the end you end up with the same equations, however, some people (i.e., Craig) didn't like how the classical notation was written.\n",
    "\n",
    "An example (sort of) is shown below. Notice the real robot is represented as a simpler drawing of little metal bars:\n",
    "\n",
    "![](dh_pics/kuka-kr270.png)\n",
    "\n",
    "The KR270 has 6 joints and is a standard industrial type robot for manufacturing. Notice again, the wrist, is represented as 2 revolute joints co-located (on top of each other) which is not realistic."
   ]
  },
  {
   "cell_type": "markdown",
   "metadata": {},
   "source": [
    "## Rotation Matrix \n",
    "\n",
    "A rotation matrix transforms (or rotates) a point from one location to another. If we start off simple and look at a 2D matrix:\n",
    "\n",
    "$$\n",
    "R = \n",
    "\\begin{bmatrix}\n",
    "  cos(\\theta) & -sin(\\theta) \\\\\n",
    "  sin(\\theta) & cos(\\theta)\n",
    "\\end{bmatrix}\n",
    "$$\n",
    "\n",
    "If I have a 2D point located at $v = [x,y]$ and I want to rotate it (or turn it in the 2D plane), I can do that with this matrix as $v' = Rv$ where $v'$ is the new 2D position.\n",
    "\n",
    "If we expand this to 3D, so our matrix would be a 3x3, we can start to do things like this:\n",
    "\n",
    "![](pics/rotation.gif)\n",
    "\n",
    "Now, please note, the beginning of this `gif` starts off with a translation (or movement), the does a rotation as the cube spins around. Another great example, is your arm! If you rotate your elbow, your hand moves. You can define that rotation my a matrix operation. Also note, we are not changing the length or size of anything when we do a rotation. We are just moving something (usually in some sort of circular/arc fashion) from one place to another. Again, when you rotate your arm, it doesn't change size does it? If it does, go see a doctor!\n",
    "\n",
    "### Properties\n",
    "\n",
    "A nice thing about rotation matricies, is:\n",
    "\n",
    "$$\n",
    "R^B_A = (R^A_B)^T = (R^A_B)^{-1}\n",
    "$$\n",
    "\n",
    "This is because they are orthonormal (the dot product of the x, y, and z components is 0). This means a matrix inverse and matrix transpose produce the same results, which is good since matrix inverse is CPU intensive compared to a matrix transpose (shown below).\n",
    "\n",
    "$$\n",
    "R = \\begin{bmatrix}\n",
    "  1 & 2 & 3 \\\\\n",
    "  4 & 5 & 6 \\\\\n",
    "  7 & 8 & 9\n",
    "\\end{bmatrix} \\\\\n",
    "R^T = \\begin{bmatrix}\n",
    "  1 & 4 & 7 \\\\\n",
    "  2 & 5 & 8 \\\\\n",
    "  3 & 6 & 9\n",
    "\\end{bmatrix} = inv(R) = R^{-1}\n",
    "$$\n",
    "\n",
    "Notice a transpose just turns matrix columns into matrix rows ... no math!\n",
    "\n",
    "**Note:** the magnitude of the rows and columns of a *real* rotation matrix are 1. The example above is sloppy in that fact. I was lazy and just wanted to remind you how transpose worked. "
   ]
  },
  {
   "cell_type": "code",
   "execution_count": 6,
   "metadata": {},
   "outputs": [
    {
     "name": "stdout",
     "output_type": "stream",
     "text": [
      "Original position [0 0 1]\n",
      "\n",
      "Rotation:\n",
      " [[1. 0. 0.]\n",
      " [0. 1. 0.]\n",
      " [0. 0. 1.]]\n",
      "\n",
      "New orientation: [0. 0. 1.]\n"
     ]
    }
   ],
   "source": [
    "# rotation example\n",
    "\n",
    "# euler angles: 0 0 0\n",
    "Rab = np.eye(3) # so this rotation transforms from b to a\n",
    "Pb = np.array([0,0,1])\n",
    "Pa = Rab.dot(Pb)\n",
    "print('Original position', Pb)\n",
    "print('\\nRotation:\\n', Rab)\n",
    "print('\\nNew orientation:', Pa)"
   ]
  },
  {
   "cell_type": "code",
   "execution_count": 7,
   "metadata": {},
   "outputs": [
    {
     "name": "stdout",
     "output_type": "stream",
     "text": [
      "Original position [0 0 1]\n",
      "\n",
      "Rotation:\n",
      " [[ 1.          0.          0.        ]\n",
      " [ 0.          0.70710678 -0.70710678]\n",
      " [ 0.          0.70710678  0.70710678]]\n",
      "\n",
      "New orientation: [ 0.         -0.70710678  0.70710678]\n"
     ]
    }
   ],
   "source": [
    "# rotate 45 deg about x-axis\n",
    "Rab = np.array([[1,0,0], [0,cos(pi/4), -sin(pi/4)], [0,sin(pi/4),cos(pi/4)]])\n",
    "Pb = np.array([0,0,1])\n",
    "Pa = Rab.dot(Pb)\n",
    "print('Original position', Pb)\n",
    "print('\\nRotation:\\n', Rab)\n",
    "print('\\nNew orientation:', Pa)"
   ]
  },
  {
   "cell_type": "markdown",
   "metadata": {},
   "source": [
    "## Position and Orientation\n",
    "\n",
    "You should aready be familar with vectors from other courses. We are only going to deal with 2D (in a plane: x, y) or 3D (x, y, z) vectors for our position. We are going to have to reference the position of an object relative to multiple referenece frames. This section is going to lay the basic mathematical foundation.\n",
    "\n",
    "<img src=\"dh_pics/frame1.png\" width=\"400px\">\n",
    "\n",
    "Now the position/orientation, or pose, of {B} relative to {A} is:\n",
    "\n",
    "$$\n",
    "P^A = R^A_B P^B\n",
    "$$\n",
    "\n",
    "Now ultimately, we want to know the location of a point in {B} relative to an inertial frame (say the base of our robot arm) in {A}.\n",
    "\n",
    "<img src=\"dh_pics/frame2.png\" width=\"400px\">\n",
    "\n",
    "<img src=\"dh_pics/frame3.png\" width=\"400px\">\n",
    "\n",
    "What the final equation means is the position of $P^B$ in frame A is equal to the offset between {A} and {B} (i.e., $P^A_B$) plus the change in orientation between {A} and {B} (i.e., $R^A_B P^B$). "
   ]
  },
  {
   "cell_type": "code",
   "execution_count": 11,
   "metadata": {},
   "outputs": [
    {
     "name": "stdout",
     "output_type": "stream",
     "text": [
      "Original position [0 0 1]\n",
      "\n",
      "Rotation:\n",
      " [[ 1.          0.          0.        ]\n",
      " [ 0.          0.70710678 -0.70710678]\n",
      " [ 0.          0.70710678  0.70710678]]\n",
      "\n",
      "Translation:\n",
      " [3 0 0]\n",
      "\n",
      "New position: [ 3.         -0.70710678  0.70710678]\n"
     ]
    }
   ],
   "source": [
    "# rotate 45 deg about x-axis\n",
    "# add a translation in now\n",
    "Rab = np.array([[1,0,0], [0,cos(pi/4), -sin(pi/4)], [0,sin(pi/4),cos(pi/4)]])\n",
    "Pb = np.array([0,0,1])\n",
    "Pab = np.array([3,0,0]) # {b} is 3 units infront of {a}\n",
    "Pa = Pab + Rab.dot(Pb)\n",
    "print('Original position', Pb)\n",
    "print('\\nRotation:\\n', Rab)\n",
    "print('\\nTranslation:\\n', Pab)\n",
    "print('\\nNew position:', Pa)"
   ]
  },
  {
   "cell_type": "markdown",
   "metadata": {},
   "source": [
    "## Homogeneous Transforms\n",
    "\n",
    "This is typically not how we do the math. Instead, robotics combines these opertions together in a form that becomes easier to program. A compact representation of the translation and rotation is known as the **Homogeneous Transformation**. This allows us to combine the rotation ($R^A_B$) and translation ($P^A_B$) of the general transform in a single matrix form.\n",
    "\n",
    "$$\n",
    "T^A_B = \\begin{bmatrix}\n",
    "   & R^A_B & & P^A_B \\\\\n",
    "  0 & 0 & 0 & 1\n",
    "\\end{bmatrix} \\\\\n",
    "\\begin{bmatrix}\n",
    "  P^A \\\\\n",
    "  1\n",
    "\\end{bmatrix} = \n",
    "T^A_B\n",
    "\\begin{bmatrix}\n",
    "  P^B \\\\\n",
    "  1\n",
    "\\end{bmatrix}\n",
    "$$\n",
    "\n",
    "This compact notation allows us to use `numpy` or `matlab` to write series of equations as matricies and do standard matrix operations on them. Now, as we attach frames to serial manipulator links, we will be able to combine these matricies together to calculate where the end effector is.\n",
    "\n",
    "<img src=\"dh_pics/frame4.png\" width=\"600px\">"
   ]
  },
  {
   "cell_type": "code",
   "execution_count": 10,
   "metadata": {},
   "outputs": [
    {
     "name": "stdout",
     "output_type": "stream",
     "text": [
      "Original position [0 0 1 1]\n",
      "\n",
      "Rotation and translation:\n",
      " [[ 1.          0.          0.          3.        ]\n",
      " [ 0.          0.70710678 -0.70710678  0.        ]\n",
      " [ 0.          0.70710678  0.70710678  0.        ]\n",
      " [ 0.          0.          0.          1.        ]]\n",
      "\n",
      "New position: [ 3.         -0.70710678  0.70710678  1.        ]\n"
     ]
    }
   ],
   "source": [
    "# Now let's do the combined homogenious matrix and see if we get the same answer\n",
    "# rotate 45 deg about x-axis\n",
    "# add a translation in now\n",
    "Tab = np.array([[1,0,0,3], [0,cos(pi/4), -sin(pi/4),0], [0,sin(pi/4),cos(pi/4),0],[0,0,0,1]])\n",
    "Pb = np.array([0,0,1,1])\n",
    "Pa = Tab.dot(Pb)\n",
    "print('Original position', Pb)\n",
    "print('\\nRotation and translation:\\n', Tab)\n",
    "print('\\nNew position:', Pa)"
   ]
  },
  {
   "cell_type": "markdown",
   "metadata": {},
   "source": [
    "# Denavit-Hartenberg (DH)\n",
    "\n",
    "Now that we have a basic understanding of translation and rotation, we can look at a process (for serial manipulators) to automate it. We will use the DH method to develop the symbolic equations and use python `sympy` to simplify them so we can program the equations.\n",
    "\n",
    "![](https://upload.wikimedia.org/wikipedia/commons/thumb/d/d8/DHParameter.png/609px-DHParameter.png)\n",
    "\n",
    "## Process (Craig, section 3.4 & 3.6, pg 67)\n",
    "\n",
    "Now the process laid out in Craig's book, defines some parameters for eash link in a robot arm:\n",
    "\n",
    "| | | |\n",
    "|------------|:--------------|:------------------------------------------------------|\n",
    "| $a_i$      | link length   | distance from $z_i$ to $z_{i+1}$ measured along $x_i$ |\n",
    "| $d_i$      | offset        | distance from $x_{i-1}$ to $x_i$ along $z_i$          |\n",
    "| $\\alpha_i$ | twist         | angle from $z_i$ to $z_{i+1}$ measured about $x_i$    |\n",
    "| $\\theta_i$ | rotation      | angle from $x_{i−1}$ to $x_i$ measured about $z_i$    |\n",
    "\n",
    "**Note:** on a quiz or GR I will give you these definitions, I don't even memorize them. But know the process below\n",
    "\n",
    "Summary of steps:\n",
    "\n",
    "1. Identify the joint axes and imagine (or draw) infinite lines along them. For steps 2 through 5 below, consider two of these neighboring lines (at axes i and i+1).\n",
    "1. Identify the comon perpendicular betwen them,or point of intersection. At the point of intersection, or at the point where the comon perpendicular meets the $i^{th}$ axis, asign the link-frame origin.\n",
    "1. Asign the $Z_i$ axis pointing along the $i^{th}$ joint axis.\n",
    "1. A sign the axis pointing along the comon perpendicular, or, if the axes intersect, asign k1 to be normal to the plane containing the two axes.\n",
    "1. Asign the y axis to complete a right-hand cordinate system ... honestly don't draw y-axis \n",
    "1. Asign {0} to match {1} when the first joint variable is zero. For {N}, chose an origin location and $X_N$ direction freely, but generaly so as to cause as many linkage parameters as possible to become zero.\n",
    "\n",
    "Now, once you have the parameters, you can enter them into the followng matrix to get the relationship between frame i and frame i+1. Note, that these are **not** euler angles, but rather:\n",
    "\n",
    "1. A translation along z by d\n",
    "1. Rotation about z by $\\theta$\n",
    "1. translation along x by a\n",
    "1. Rotation about x by $\\alpha$\n",
    "\n",
    "This sequence turns into the the following homogenious transform:\n",
    "\n",
    "$$\n",
    "\\begin{eqnarray}\n",
    "T^{i-1}_i = R_x(\\alpha_{i-1}) D_x(a_{i-1}) R_z(\\theta_i) D_z(d_i) \\\\\n",
    "\\\\\n",
    "T^{i-1}_i = \\begin{bmatrix}\n",
    "  \\cos(\\theta_i)                   & -\\sin(\\theta_i)                  & 0                   & a_{i-1} \\\\\n",
    "  \\sin(\\theta_i)\\cos(\\alpha_{i-1}) & \\cos(\\theta_i)\\cos(\\alpha_{i-1}) & -\\sin(\\alpha_{i-1}) & -\\sin(\\alpha_{i-1})d_i \\\\\n",
    "  \\sin(\\theta_i)\\sin(\\alpha_{i-1}) & \\cos(\\theta_i)\\sin(\\alpha_{i-1}) & \\cos(\\alpha_{i-1})  & \\cos(\\alpha_{i-1})d_i \\\\\n",
    "  0                                & 0                                & 0                   & 1\n",
    "\\end{bmatrix}\n",
    "\\end{eqnarray}\n",
    "$$\n",
    "\n",
    "You will create 1 matrix for each link in your serial manipulator. Then you can multiply these matricies together to get the transform from base frame {0} to end effector frame {3} by: $T^0_3 = T^0_1 T^1_2 T^2_3$\n",
    "\n",
    "Also, the general format of **every** homogenious matrix is:\n",
    "\n",
    "$$\n",
    "T_{4x4} =\n",
    "\\begin{bmatrix}\n",
    "  R_{3x3} & t_{3x1} \\\\\n",
    "  \\begin{bmatrix} 0 & 0 & 0 \\end{bmatrix} & 1\n",
    "\\end{bmatrix}\n",
    "$$\n",
    "\n",
    "where $R$ is your rotation matrix, $t$ is your translation, and T is your homogenious matrix. Note, later when we do computer vision, you will see the homogenious matrix refered to as $H$. Basically no one has agreed to what variables are called across different fields of study. So be flexible and try to recognize things for what they are ... you will see these again."
   ]
  },
  {
   "cell_type": "code",
   "execution_count": 7,
   "metadata": {},
   "outputs": [
    {
     "data": {
      "text/html": [
       "<iframe src=\"https://player.vimeo.com/video/238147402\" width=\"640\" height=\"360\" frameborder=\"0\" webkitallowfullscreen mozallowfullscreen allowfullscreen></iframe><p><a href=\"https://vimeo.com/238147402\">Denavit&ndash;Hartenberg parameters</a> from <a href=\"https://vimeo.com/user59907133\">kevin</a> on <a href=\"https://vimeo.com\">Vimeo</a>.</p>"
      ],
      "text/plain": [
       "<IPython.core.display.HTML object>"
      ]
     },
     "execution_count": 7,
     "metadata": {},
     "output_type": "execute_result"
    }
   ],
   "source": [
    "HTML('<iframe src=\"https://player.vimeo.com/video/238147402\" width=\"640\" height=\"360\" frameborder=\"0\" webkitallowfullscreen mozallowfullscreen allowfullscreen></iframe><p><a href=\"https://vimeo.com/238147402\">Denavit&ndash;Hartenberg parameters</a> from <a href=\"https://vimeo.com/user59907133\">kevin</a> on <a href=\"https://vimeo.com\">Vimeo</a>.</p>')"
   ]
  },
  {
   "cell_type": "markdown",
   "metadata": {},
   "source": [
    "## Simple 2D Example\n",
    "\n",
    "Following the process for assigning frames to a manipulator, you get the following:\n",
    "\n",
    "![](dh_pics/2d-ex.png)\n",
    "\n",
    "Looking at the above frames, they are related by:\n",
    "\n",
    "| Link | $a_{i-1}$ | $\\alpha_{i-1}$ | $d_i$ | $\\theta_i$ |\n",
    "|------|-----------|----------------|-------|------------|\n",
    "| 1    | 0     | 0          | 0     | $\\theta_1$ |\n",
    "| 2    | $a_1$ | 0          | 0     | $\\theta_2$ |\n",
    "| 3    | $a_2$ | 0          | 0     | 0          |\n",
    "\n",
    "Now using Craig eqn 3.6, we can substitute these values in and get the relationship between the inertial frame and the end effector. However note, $\\theta_i$ are variable parameters. Typically we would simplify these equations down leaving only the $\\theta_i$ parameters. Let's use the python symbolic toolbox to generate the equations of motion."
   ]
  },
  {
   "cell_type": "code",
   "execution_count": 57,
   "metadata": {},
   "outputs": [],
   "source": [
    "# Let's grab some libraries to help us manipulate symbolic equations\n",
    "import sympy\n",
    "from sympy import symbols, sin, cos, pi, simplify\n",
    "\n",
    "def makeT(a, alpha, d, theta):\n",
    "    # create a modified DH homogenious matrix\n",
    "    # this is the same matrix as above\n",
    "    return np.array([\n",
    "        [           cos(theta),           -sin(theta),           0,             a],\n",
    "        [sin(theta)*cos(alpha), cos(theta)*cos(alpha), -sin(alpha), -d*sin(alpha)],\n",
    "        [sin(theta)*sin(alpha), cos(theta)*sin(alpha),  cos(alpha),  d*cos(alpha)],\n",
    "        [                    0,                     0,           0,             1]\n",
    "    ])\n",
    "\n",
    "def simplifyT(tt):\n",
    "    \"\"\"\n",
    "    This goes through each element of a matrix and tries to simplify it.\n",
    "    \"\"\"\n",
    "    ret = tt.copy()\n",
    "    for i, row in enumerate(tt):\n",
    "        for j, col in enumerate(row):\n",
    "            ret[i,j] = simplify(col)\n",
    "    return ret\n",
    "\n",
    "def subs(tt, m):\n",
    "    \"\"\"\n",
    "    This allows you to simplify the trigonomic mess that kinematics can\n",
    "    create and also substitute in some inputs in the process\n",
    "    \n",
    "    Yes, this is basically the same as above. I could combine these into 1\n",
    "    function, but I wanted to beclearer on what I am doing.\n",
    "    \"\"\"\n",
    "    ret = tt.copy()\n",
    "    for i, row in enumerate(tt):\n",
    "        for j, col in enumerate(row):\n",
    "            try:\n",
    "                ret[i,j] = col.subs(m)\n",
    "            except:\n",
    "                ret[i,j] = simplify(col)\n",
    "    return ret"
   ]
  },
  {
   "cell_type": "code",
   "execution_count": 58,
   "metadata": {},
   "outputs": [
    {
     "name": "stdout",
     "output_type": "stream",
     "text": [
      "T1 =  [[cos(t1) -sin(t1) 0 0]\n",
      " [sin(t1) cos(t1) 0 0]\n",
      " [0 0 1 0]\n",
      " [0 0 0 1]]\n",
      "T2 =  [[cos(t2) -sin(t2) 0 a1]\n",
      " [sin(t2) cos(t2) 0 0]\n",
      " [0 0 1 0]\n",
      " [0 0 0 1]]\n",
      "T3 =  [[1 0 0 a2]\n",
      " [0 1 0 0]\n",
      " [0 0 1 0]\n",
      " [0 0 0 1]]\n",
      "\n",
      "So the combined homogenious matrix is:\n",
      "\n",
      "T13 =  [[-sin(t1)*sin(t2) + cos(t1)*cos(t2) -sin(t1)*cos(t2) - sin(t2)*cos(t1) 0\n",
      "  -a2*sin(t1)*sin(t2) + (a1 + a2*cos(t2))*cos(t1)]\n",
      " [sin(t1)*cos(t2) + sin(t2)*cos(t1) -sin(t1)*sin(t2) + cos(t1)*cos(t2) 0\n",
      "  a2*sin(t2)*cos(t1) + (a1 + a2*cos(t2))*sin(t1)]\n",
      " [0 0 1 0]\n",
      " [0 0 0 1]]\n"
     ]
    }
   ],
   "source": [
    "# make thetas (t) and link lengths (a) symbolics\n",
    "t1, t2 = symbols('t1 t2')\n",
    "a1, a2 = symbols('a1 a2')\n",
    "\n",
    "# let's create our matrices\n",
    "T1 = makeT(0, 0, 0, t1)\n",
    "T2 = makeT(a1, 0, 0, t2)\n",
    "T3 = makeT(a2, 0, 0, 0)\n",
    "\n",
    "# T13 = T1 * T2 * T3\n",
    "T13 = T1.dot(T2.dot(T3))\n",
    "\n",
    "print('T1 = ', T1)\n",
    "print('T2 = ', T2)\n",
    "print('T3 = ', T3)\n",
    "print('\\nSo the combined homogenious matrix is:\\n')\n",
    "print('T13 = ', T13)"
   ]
  },
  {
   "cell_type": "markdown",
   "metadata": {},
   "source": [
    "So that looks a little messy with all of the sines and cosines ... let's use the python symbolic capabilities in `sympy` to help us reduce this a little and figure out where the end-effector is relative to the base (e.g. inertial frame)."
   ]
  },
  {
   "cell_type": "code",
   "execution_count": 59,
   "metadata": {},
   "outputs": [
    {
     "name": "stdout",
     "output_type": "stream",
     "text": [
      "[[cos(t1 + t2) -sin(t1 + t2) 0 a1*cos(t1) + a2*cos(t1 + t2)]\n",
      " [sin(t1 + t2) cos(t1 + t2) 0 a1*sin(t1) + a2*sin(t1 + t2)]\n",
      " [0 0 1 0]\n",
      " [0 0 0 1]]\n",
      "-------------------------\n",
      "position x: a1*cos(t1) + a2*cos(t1 + t2)\n",
      "position y: a1*sin(t1) + a2*sin(t1 + t2)\n"
     ]
    }
   ],
   "source": [
    "ans = simplifyT(T13)\n",
    "print(ans)\n",
    "print('-'*25)\n",
    "print('position x: {}'.format(ans[0,3]))\n",
    "print('position y: {}'.format(ans[1,3]))"
   ]
  },
  {
   "cell_type": "markdown",
   "metadata": {
    "collapsed": true
   },
   "source": [
    "Later, we will derive the same 2 link manipulator a different way and come up with the same equations for position of the end-effector in the x, y plane. For simple manipulators, DH is overkill, however, for most real manipulators (remember the DARPA videos), it is useful to understand what is going on if you do robotics."
   ]
  },
  {
   "cell_type": "code",
   "execution_count": 60,
   "metadata": {},
   "outputs": [
    {
     "name": "stdout",
     "output_type": "stream",
     "text": [
      "[[cos(t2) -sin(t2) 0 a1 + a2*cos(t2)]\n",
      " [sin(t2) cos(t2) 0 a2*sin(t2)]\n",
      " [0 0 1 0]\n",
      " [0 0 0 1]]\n",
      "-------------------------\n",
      "position x: a1 + a2*cos(t2)\n",
      "position y: a2*sin(t2)\n"
     ]
    }
   ],
   "source": [
    "# what if I wanted to substitute in an angle?\n",
    "# just give it an array of tuples\n",
    "ans = subs(T13, [(t1, 0)])  # here it is only t1, but I could do: [(t1, angle), (t2, angle)]\n",
    "print(ans)\n",
    "print('-'*25)\n",
    "print('position x: {}'.format(ans[0,3]))\n",
    "print('position y: {}'.format(ans[1,3]))"
   ]
  },
  {
   "cell_type": "markdown",
   "metadata": {},
   "source": [
    "# KUKA KR270 Example\n",
    "\n",
    "![](dh_pics/kuka-kr270.png)\n",
    "\n",
    "Now following the steps above, we get the complete DH table below. Notice, the distances in the picture (d) have been changed to m, because I didn't want people getting confused between distance d and DH parameter d. Therefore everything is now distance m to remove confusion:\n",
    "\n",
    "| Link | $a_{i-1}$ | $\\alpha_{i-1}$ | $d_i$ | $\\theta_i$ |\n",
    "|------|-----------|----------------|-------|------------|\n",
    "| 1    | 0         | 0              | $m_1$ | $\\theta_1$ |\n",
    "| 2    | $m_2$     | 90             | 0     | $\\theta_2$ |\n",
    "| 3    | $m_3$     | 0              | 0     | $\\theta_3$ |\n",
    "| 4    | $m_5$     | -90            | $m_4$ | $\\theta_4$ |\n",
    "| 5    | 0         | 90             | 0     | $\\theta_5$ |\n",
    "| 6    | 0         | -90            | $m_6$ | $\\theta_6$ |"
   ]
  },
  {
   "cell_type": "markdown",
   "metadata": {},
   "source": [
    "# Exercises\n",
    "\n",
    "Practice makes perfect. Try to do the following from Craig so you will have success on the GR.\n",
    "\n",
    "- Try to reproduce the Kuka KR270 parameter table above on your own. There may be small differences depending on some decisions with your frame locations for {4} and {6}.\n",
    "- Puma Figure 3.18, try to get the same DH parameters as in table 3-21.\n",
    "- Yasukawa L-3, Figure 3.25, answers in table 3.26 \n",
    "\n",
    "I **guarantee** there will be a DH problem on the GR where you have to draw frames or fill out the table or something, so please practice it.\n",
    "\n",
    "# Questions\n",
    "\n",
    "1. What are the parts of the homogenious transform (i.e., in the matrix, what do they mean)?\n",
    "1. For the DH process, what is the sequence of rotations (about which axes) and translations?\n",
    "1. If there is no rotation between 2 coordinate frames, what does the rotation matrix look like?\n",
    "1. If there is no translation between 2 coordinate frames, what does the translation vector look like?\n",
    "1. What is an inertial frame?\n",
    "1. Are the diffences between a serial manipulator and a parallel manipulator?"
   ]
  },
  {
   "cell_type": "markdown",
   "metadata": {},
   "source": [
    "\n",
    "-----------\n",
    "\n",
    "<a rel=\"license\" href=\"http://creativecommons.org/licenses/by-sa/4.0/\"><img alt=\"Creative Commons License\" style=\"border-width:0\" src=\"https://i.creativecommons.org/l/by-sa/4.0/88x31.png\" /></a><br />This work is licensed under a <a rel=\"license\" href=\"http://creativecommons.org/licenses/by-sa/4.0/\">Creative Commons Attribution-ShareAlike 4.0 International License</a>."
   ]
  }
 ],
 "metadata": {
  "kernelspec": {
   "display_name": "Python 2",
   "language": "python",
   "name": "python2"
  },
  "language_info": {
   "codemirror_mode": {
    "name": "ipython",
    "version": 2
   },
   "file_extension": ".py",
   "mimetype": "text/x-python",
   "name": "python",
   "nbconvert_exporter": "python",
   "pygments_lexer": "ipython2",
   "version": "2.7.14"
  }
 },
 "nbformat": 4,
 "nbformat_minor": 1
}
