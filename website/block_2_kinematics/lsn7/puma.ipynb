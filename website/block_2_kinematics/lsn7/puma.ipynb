{
 "cells": [
  {
   "cell_type": "markdown",
   "metadata": {},
   "source": [
    "# Puma Example\n",
    "\n",
    "Kevin Walchko\n",
    "\n",
    "created 7 Nov 2017\n",
    "\n",
    "---\n",
    "\n",
    "This is just an example of a more complex serial manipulator."
   ]
  },
  {
   "cell_type": "code",
   "execution_count": 4,
   "metadata": {},
   "outputs": [],
   "source": [
    "%matplotlib inline\n",
    "\n",
    "# Let's grab some libraries to help us manipulate symbolic equations\n",
    "from __future__ import print_function\n",
    "from __future__ import division\n",
    "import numpy as np\n",
    "import sympy\n",
    "from sympy import symbols, sin, cos, pi, simplify\n",
    "\n",
    "def makeT(a, alpha, d, theta):\n",
    "    # create a modified DH homogenious matrix\n",
    "    return np.array([\n",
    "        [           cos(theta),           -sin(theta),           0,             a],\n",
    "        [sin(theta)*cos(alpha), cos(theta)*cos(alpha), -sin(alpha), -d*sin(alpha)],\n",
    "        [sin(theta)*sin(alpha), cos(theta)*sin(alpha),  cos(alpha),  d*cos(alpha)],\n",
    "        [                    0,                     0,           0,             1]\n",
    "    ])\n",
    "\n",
    "def simplifyT(tt):\n",
    "    \"\"\"\n",
    "    This goes through each element of a matrix and tries to simplify it.\n",
    "    \"\"\"\n",
    "    for i, row in enumerate(tt):\n",
    "        for j, col in enumerate(row):\n",
    "            tt[i,j] = simplify(col)\n",
    "    return tt"
   ]
  },
  {
   "cell_type": "markdown",
   "metadata": {},
   "source": [
    "# Puma\n",
    "\n",
    "[](dh_pics/puma.png)\n",
    "\n",
    "<img src=\"dh_pics/puma.png\" width=\"400px\">\n",
    "\n",
    "Puma robot is an old, but classical serial manipulator. You can see Criag's example in section 3.7, pg 77. Once you have the DH parameters, you can use the above matrix to find the forward kinematics,"
   ]
  },
  {
   "cell_type": "code",
   "execution_count": 5,
   "metadata": {},
   "outputs": [
    {
     "name": "stdout",
     "output_type": "stream",
     "text": [
      "[[ 1.0*((sin(t1)*sin(t4) + cos(t1)*cos(t4)*cos(t2 + t3))*cos(t5) - sin(t5)*sin(t2 + t3)*cos(t1))*cos(t6) + 1.0*(sin(t1)*cos(t4) - sin(t4)*cos(t1)*cos(t2 + t3))*sin(t6)\n",
      "  1.0*(-(sin(t1)*sin(t4) + cos(t1)*cos(t4)*cos(t2 + t3))*cos(t5) + sin(t5)*sin(t2 + t3)*cos(t1))*sin(t6) + 1.0*(sin(t1)*cos(t4) - sin(t4)*cos(t1)*cos(t2 + t3))*cos(t6)\n",
      "  -1.0*(sin(t1)*sin(t4) + cos(t1)*cos(t4)*cos(t2 + t3))*sin(t5) - 1.0*sin(t2 + t3)*cos(t1)*cos(t5)\n",
      "  1.0*a2*cos(t1)*cos(t2) + 1.0*a3*cos(t1)*cos(t2 + t3) - 1.0*d3*sin(t1) - 1.0*d4*sin(t2 + t3)*cos(t1)]\n",
      " [ 1.0*((sin(t1)*cos(t4)*cos(t2 + t3) - sin(t4)*cos(t1))*cos(t5) - sin(t1)*sin(t5)*sin(t2 + t3))*cos(t6) - 1.0*(sin(t1)*sin(t4)*cos(t2 + t3) + cos(t1)*cos(t4))*sin(t6)\n",
      "  1.0*((-sin(t1)*cos(t4)*cos(t2 + t3) + sin(t4)*cos(t1))*cos(t5) + sin(t1)*sin(t5)*sin(t2 + t3))*sin(t6) - 1.0*(sin(t1)*sin(t4)*cos(t2 + t3) + cos(t1)*cos(t4))*cos(t6)\n",
      "  1.0*(-sin(t1)*cos(t4)*cos(t2 + t3) + sin(t4)*cos(t1))*sin(t5) - 1.0*sin(t1)*sin(t2 + t3)*cos(t5)\n",
      "  1.0*a2*sin(t1)*cos(t2) + 1.0*a3*sin(t1)*cos(t2 + t3) + 1.0*d3*cos(t1) - 1.0*d4*sin(t1)*sin(t2 + t3)]\n",
      " [ -1.0*(sin(t5)*cos(t2 + t3) + sin(t2 + t3)*cos(t4)*cos(t5))*cos(t6) + 1.0*sin(t4)*sin(t6)*sin(t2 + t3)\n",
      "  1.0*(sin(t5)*cos(t2 + t3) + sin(t2 + t3)*cos(t4)*cos(t5))*sin(t6) + 1.0*sin(t4)*sin(t2 + t3)*cos(t6)\n",
      "  1.0*sin(t5)*sin(t2 + t3)*cos(t4) - 1.0*cos(t5)*cos(t2 + t3)\n",
      "  -1.0*a2*sin(t2) - 1.0*a3*sin(t2 + t3) - 1.0*d4*cos(t2 + t3)]\n",
      " [0 0 0 1.00000000000000]]\n",
      "-------------------------\n",
      "position x: 1.0*a2*cos(t1)*cos(t2) + 1.0*a3*cos(t1)*cos(t2 + t3) - 1.0*d3*sin(t1) - 1.0*d4*sin(t2 + t3)*cos(t1)\n",
      "position y: 1.0*a2*sin(t1)*cos(t2) + 1.0*a3*sin(t1)*cos(t2 + t3) + 1.0*d3*cos(t1) - 1.0*d4*sin(t1)*sin(t2 + t3)\n",
      "position z: -1.0*a2*sin(t2) - 1.0*a3*sin(t2 + t3) - 1.0*d4*cos(t2 + t3)\n"
     ]
    }
   ],
   "source": [
    "# craig puma\n",
    "t1,t2,t3,t4,t5,t6 = symbols('t1 t2 t3 t4 t5 t6')\n",
    "a2, a3, d3, d4 = symbols('a2 a3 d3 d4')\n",
    "\n",
    "T1 = makeT(0,0,0,t1)\n",
    "T2 = makeT(0,-pi/2,0,t2)\n",
    "T3 = makeT(a2,0,d3,t3)\n",
    "T4 = makeT(a3,-pi/2,d4,t4)\n",
    "T5 = makeT(0,pi/2,0,t5)\n",
    "T6 = makeT(0,-pi/2,0,t6)\n",
    "\n",
    "# print(T45)\n",
    "# print(T56)\n",
    "# print(T45.dot(T56))\n",
    "\n",
    "ans = np.eye(4)\n",
    "for T in [T1, T2, T3, T4, T5, T6]:\n",
    "    ans = ans.dot(T)\n",
    "\n",
    "ans = simplifyT(ans)\n",
    "print(ans)\n",
    "print('-'*25)\n",
    "print('position x: {}'.format(ans[0,3]))\n",
    "print('position y: {}'.format(ans[1,3]))\n",
    "print('position z: {}'.format(ans[2,3]))"
   ]
  },
  {
   "cell_type": "markdown",
   "metadata": {},
   "source": [
    "Looking at the position, this is the same position listed in Craig, eqn 3.14."
   ]
  },
  {
   "cell_type": "markdown",
   "metadata": {},
   "source": [
    "\n",
    "-----------\n",
    "\n",
    "<a rel=\"license\" href=\"http://creativecommons.org/licenses/by-sa/4.0/\"><img alt=\"Creative Commons License\" style=\"border-width:0\" src=\"https://i.creativecommons.org/l/by-sa/4.0/88x31.png\" /></a><br />This work is licensed under a <a rel=\"license\" href=\"http://creativecommons.org/licenses/by-sa/4.0/\">Creative Commons Attribution-ShareAlike 4.0 International License</a>."
   ]
  }
 ],
 "metadata": {
  "kernelspec": {
   "display_name": "Python 2",
   "language": "python",
   "name": "python2"
  },
  "language_info": {
   "codemirror_mode": {
    "name": "ipython",
    "version": 2
   },
   "file_extension": ".py",
   "mimetype": "text/x-python",
   "name": "python",
   "nbconvert_exporter": "python",
   "pygments_lexer": "ipython2",
   "version": "2.7.14"
  }
 },
 "nbformat": 4,
 "nbformat_minor": 2
}
