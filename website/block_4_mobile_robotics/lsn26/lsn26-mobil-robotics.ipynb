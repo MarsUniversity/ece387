{
 "cells": [
  {
   "cell_type": "markdown",
   "metadata": {},
   "source": [
    "# Mobile Robotics\n",
    "\n",
    "Kevin J. Walchko\n",
    "created 19 Oct 2017\n",
    "\n",
    "----"
   ]
  },
  {
   "cell_type": "code",
   "execution_count": 1,
   "metadata": {
    "collapsed": true
   },
   "outputs": [],
   "source": [
    "%matplotlib inline \n",
    "\n",
    "import numpy as np # matrix manipulations\n",
    "from matplotlib import pyplot as plt"
   ]
  },
  {
   "cell_type": "markdown",
   "metadata": {},
   "source": [
    "# Coordinate Systems\n",
    "\n",
    "It is important for robots to be able to travel from one place to another. In order to determine where the robot is, we typically asign 2 reference frames. A global (e.g. inertial frame) so we can understand the dynamics of the robot and a body frame to understand what the orientation of the robot is relative to the global frame. Also, remember in a previous lesson, we talked about **pose**, which is the position and orientation of something relative to aother frame.\n",
    "\n",
    "![](pics/robot-frame.png)\n",
    "\n",
    "For our work with the roomba, we the only orientation we are concerned about is *yaw* (about the z-axis) which is typically associated with a cardinal (or compass) direction. We will represent the robot's pose (or also known as *state*) as (see Siegwart, eqns 3.1 - 3.2):\n",
    "\n",
    "$$\n",
    "\\xi =\n",
    "\\begin{bmatrix}\n",
    "  x \\\\\n",
    "  y \\\\\n",
    "  \\theta\n",
    "\\end{bmatrix} \\\\\n",
    "R^{inertial}_{body}(\\theta) =\n",
    "\\begin{bmatrix}\n",
    "  \\cos(\\theta) & \\sin(\\theta) & 0 \\\\\n",
    "  \\sin(\\theta) & \\cos(\\theta) & 0 \\\\\n",
    "  0 & 0 & 1\n",
    "\\end{bmatrix} \\\\\n",
    "\\xi_I = R^I_B \\xi_B\n",
    "$$\n",
    "\n",
    "where subscript I refers to the inertial frame, subscript B refers to the body frame. Hopefully you also recognize this rotation matrix as a rotation about the z-axis by $\\theta$.\n",
    "\n",
    "$$\n",
    "v = \\dot \\phi r \\\\\n",
    "\\xi_I = R^I_B(\\theta) \\begin{bmatrix}\n",
    "  \\frac{r \\dot \\phi_1}{2} + \\frac{r \\dot \\phi_2}{2} \\\\\n",
    "  0 \\\\\n",
    "  \\frac{r \\dot \\phi_1}{2} - \\frac{r \\dot \\phi_2}{2}\n",
    "\\end{bmatrix}\n",
    "$$\n",
    "\n",
    "For example, substituting the following values into the previous equations gives:\n",
    "\n",
    "- $\\theta = \\frac{\\pi}{2}$\n",
    "- r = 1\n",
    "- l = 1\n",
    "- $\\dot \\phi_1 = 4$\n",
    "- $\\dot \\phi_2 = 2$\n",
    "\n",
    "$$\n",
    "\\dot \\xi_I = \\begin{bmatrix}\n",
    "  \\dot x \\\\\n",
    "  \\dot y \\\\\n",
    "  \\dot \\theta\n",
    "\\end{bmatrix} = \n",
    "\\begin{bmatrix}\n",
    "  0 & -1 & 0 \\\\\n",
    "  1 & 0 & 0 \\\\\n",
    "  0 & 0 & 1\n",
    "\\end{bmatrix}\n",
    "\\begin{bmatrix}\n",
    "  3 \\\\\n",
    "  0 \\\\\n",
    "  1\n",
    "\\end{bmatrix} = \n",
    "\\begin{bmatrix}\n",
    "  0 \\\\\n",
    "  3 \\\\\n",
    "  1\n",
    "\\end{bmatrix}\n",
    "$$\n",
    "\n",
    "# Robot Types\n",
    "\n",
    "## Non-holonomic\n",
    "\n",
    "- Contraints limit the possible movements\n",
    "- This is typically a velocity contraint.\n",
    "    - The robot can occupy any point in a plane at any orientation, but it may not be able to directly transition from one point/orientation to another\n",
    "    - Cars and parallel parking are a great example of this\n",
    "\n",
    "## Holonomic\n",
    "\n",
    "- There are no contraints on your robot and sideways movement is possible\n",
    "\n",
    "# Odometry\n",
    "\n",
    "![](pics/ideal-odometry.png)\n",
    "![](pics/real-odometry.png)"
   ]
  },
  {
   "cell_type": "code",
   "execution_count": null,
   "metadata": {
    "collapsed": true
   },
   "outputs": [],
   "source": []
  }
 ],
 "metadata": {
  "kernelspec": {
   "display_name": "Python 2",
   "language": "python",
   "name": "python2"
  },
  "language_info": {
   "codemirror_mode": {
    "name": "ipython",
    "version": 2
   },
   "file_extension": ".py",
   "mimetype": "text/x-python",
   "name": "python",
   "nbconvert_exporter": "python",
   "pygments_lexer": "ipython2",
   "version": "2.7.13"
  }
 },
 "nbformat": 4,
 "nbformat_minor": 2
}
