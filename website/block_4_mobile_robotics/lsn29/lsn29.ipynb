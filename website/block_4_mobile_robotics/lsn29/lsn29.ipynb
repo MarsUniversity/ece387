{
 "cells": [
  {
   "cell_type": "markdown",
   "metadata": {},
   "source": [
    "# Robot Control\n",
    "\n",
    "Kevin J. Walchko\n",
    "\n",
    "created 20 Oct\n",
    "\n",
    "-------------------\n",
    "\n",
    "blah...\n",
    "\n",
    "## References\n",
    "\n",
    "- [tmp]()\n",
    "\n",
    "## Setup"
   ]
  },
  {
   "cell_type": "code",
   "execution_count": null,
   "metadata": {
    "collapsed": true
   },
   "outputs": [],
   "source": []
  },
  {
   "cell_type": "markdown",
   "metadata": {},
   "source": [
    "# Making the Create Move\n",
    "\n",
    "So we have already talked about mobile robots, coordinate systems, body frames, etc. Now we are going to talk about how do we command the robot and get it to go where we want.\n",
    "\n",
    "```python\n",
    "from  pycreate2 import Create2\n",
    "\n",
    "# Create a Create2.\n",
    "bot = Create2()\n",
    "\n",
    "# Start the Create 2\n",
    "bot.start()\n",
    "\n",
    "# Put the Create2 into 'safe' mode so we can drive it\n",
    "# This will still provide some protection\n",
    "bot.safe()\n",
    "\n",
    "# directly set the motor speeds ... go forward\n",
    "bot.drive_direct(100, 100)  # inputs for motors are +/- 500 max\n",
    "time.sleep(2)\n",
    "\n",
    "# turn in place, CW\n",
    "bot.drive_direct(200,-200)\n",
    "time.sleep(2)\n",
    "```"
   ]
  },
  {
   "cell_type": "markdown",
   "metadata": {},
   "source": [
    "# Obsticle Avoidance\n",
    "\n"
   ]
  },
  {
   "cell_type": "code",
   "execution_count": null,
   "metadata": {
    "collapsed": true
   },
   "outputs": [],
   "source": []
  }
 ],
 "metadata": {
  "kernelspec": {
   "display_name": "Python 2",
   "language": "python",
   "name": "python2"
  },
  "language_info": {
   "codemirror_mode": {
    "name": "ipython",
    "version": 2
   },
   "file_extension": ".py",
   "mimetype": "text/x-python",
   "name": "python",
   "nbconvert_exporter": "python",
   "pygments_lexer": "ipython2",
   "version": "2.7.13"
  }
 },
 "nbformat": 4,
 "nbformat_minor": 2
}
