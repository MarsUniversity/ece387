{
 "cells": [
  {
   "cell_type": "markdown",
   "metadata": {},
   "source": [
    "# Path Planning\n",
    "\n",
    "Created by Kevin J. Walchko 25 July 2017\n",
    "\n",
    "----\n",
    "\n",
    "The code is based off Sabastian Thur's Robotic course, Udacity.com and some good material from Red Games.\n",
    "\n",
    "## References\n",
    "\n",
    "- [Standford DARPA Grand Challenge](https://www.youtube.com/watch?v=qXZt-B7iUyw)\n",
    "- [RedGames blog, deep dive on A\\*](http://www.redblobgames.com/pathfinding/a-star/implementation.html)\n",
    "- [RedGames blog, Intro to A\\*](http://www.redblobgames.com/pathfinding/a-star/introduction.html)\n",
    "- [Wikipedia A\\*](https://en.wikipedia.org/wiki/A*_search_algorithm)\n",
    "\n",
    "## Setup"
   ]
  },
  {
   "cell_type": "code",
   "execution_count": 1,
   "metadata": {},
   "outputs": [],
   "source": [
    "%matplotlib inline\n",
    "\n",
    "from __future__ import division, print_function\n",
    "import matplotlib\n",
    "import matplotlib.pyplot as plt\n",
    "import numpy as np"
   ]
  },
  {
   "cell_type": "markdown",
   "metadata": {},
   "source": [
    "# Path Finding\n",
    "\n",
    "There are alot of algorithms out there to do path planning in 2D and 3D environments. Three useful algorithms are:\n",
    "\n",
    "- **Breadth First Search:** explores equally in all directions. This is an incredibly useful algorithm, not only for regular path finding, but also for procedural map generation, flow field pathfinding, distance maps, and other types of map analysis.\n",
    "- **Dijkstra’s Algorithm:** (also called Uniform Cost Search) lets us prioritize which paths to explore. Instead of exploring all possible paths equally, it favors lower cost paths. We can assign lower costs to encourage moving on roads, higher costs to avoid forests, higher costs to discourage going near enemies, and more. When movement costs vary, we use this instead of Breadth First Search.\n",
    "- **A\\*:** is a modification of Dijkstra’s Algorithm that is optimized for a single destination. Dijkstra’s Algorithm can find paths to all locations; A* finds paths to one location. It prioritizes paths that seem to be leading closer to the goal.\n",
    "\n",
    "Now I point these out because they are all related.\n",
    "\n",
    "- Breadth First Search (BFS) is a one to many path finder, but all paths found have equal cost. BFS will search the entire search space\n",
    "- Dijkstra's Algorithm builds on BFS by adding a cost function and allows you to include various things like toll roads, highways, surface streets, etc. It also searches the entire search space in all directions\n",
    "- A\\* is different that the first 2 because it is a one to one (start point to finish piont) path finder with a cost function. A\\* will stop searching once it reaches the finish point and may leave regions of the map unexplored\n",
    "\n",
    "In computer science, A\\* (pronounced as \"A star\") is a computer algorithm that is widely used in pathfinding and graph traversal, the process of plotting an efficiently directed path between multiple points, called nodes. It enjoys widespread use due to its performance and accuracy. \n",
    "\n",
    "Peter Hart, Nils Nilsson and Bertram Raphael of Stanford Research Institute (now SRI International) first described the algorithm in 1968. It is an extension of Edsger Dijkstra's 1959 algorithm. A\\* achieves better performance by using heuristics to guide its search. "
   ]
  },
  {
   "cell_type": "code",
   "execution_count": 2,
   "metadata": {},
   "outputs": [],
   "source": [
    "def getPath(expand, goal, start, wall=-1):\n",
    "    \"\"\"\n",
    "    Given the expance (explored world), this returns the path from the goal\n",
    "    to the starting point. This works backwards and takes the\n",
    "    path with the lowest number of moves.\n",
    "    \"\"\"\n",
    "    path = []\n",
    "    x, y = goal\n",
    "    val = expand[x][y]\n",
    "    delta = [\n",
    "        [-1, 0 ], # go up\n",
    "        [ 0, -1], # go left\n",
    "        [ 1, 0 ], # go down\n",
    "        [ 0, 1 ]  # go right\n",
    "    ]\n",
    "    done = False\n",
    "    max_x_grid = len(grid)\n",
    "    max_y_grid = len(grid[0])\n",
    "    \n",
    "    path.append(goal)\n",
    "    \n",
    "    while not done:\n",
    "        vals = []\n",
    "        \n",
    "        # lets find the move cost up/down/left/right\n",
    "        for move in delta:\n",
    "            x2, y2 = x + move[0], y + move[1]\n",
    "            # make sure still on map\n",
    "            if x2 >= 0 and x2 < max_x_grid and y2 >=0 and y2 < max_y_grid:\n",
    "                if expand[x2][y2] > wall:  # don't travel through walls\n",
    "                    val = expand[x2][y2]\n",
    "                    vals.append((val, move))\n",
    "\n",
    "        # find the lowest move cost\n",
    "        lowest = 100000\n",
    "        for v, m in vals:\n",
    "            if v < lowest:\n",
    "                move = m\n",
    "                lowest = v\n",
    "\n",
    "        # append that move to the path\n",
    "        x, y = x + move[0], y + move[1]\n",
    "        path.append([x, y])\n",
    "        \n",
    "        # are we there yet???\n",
    "        if x == start[0] and y == start[1]:\n",
    "            done = True\n",
    "        \n",
    "    return path"
   ]
  },
  {
   "cell_type": "code",
   "execution_count": 3,
   "metadata": {},
   "outputs": [],
   "source": [
    "def drawMap(grid, path=None, cmap='binary', title=None, startstop=None):\n",
    "    \"\"\"\n",
    "    Draw the map\n",
    "    grid - map to draw\n",
    "    path - if a path is given, it will draw the path as a gray color\n",
    "    cmap - if given, will use the cmap and display colorbar\n",
    "    title - if given, will set the title\n",
    "    startstop - if given, will display the start/stop locations\n",
    "    \"\"\"\n",
    "    rows = len(grid)\n",
    "    cols = len(grid[0])\n",
    "    data = np.ones((rows, cols))\n",
    "    vmax = -1\n",
    "    cb = False\n",
    "    \n",
    "    fig, ax = plt.subplots(1, 1, tight_layout=True)\n",
    "    \n",
    "    # NOTE: binary is backwards:\n",
    "    # 0 - white\n",
    "    # 255 - black\n",
    "    if cmap is 'binary':\n",
    "        \n",
    "        # these are a little backwards and strange, but works\n",
    "        cmap = matplotlib.colors.ListedColormap(['w', 'r','y','g', 'k'])\n",
    "            \n",
    "        for i, r in enumerate(grid):\n",
    "            for j, c in enumerate(r):\n",
    "                data[i,j] = 255 if c else 0\n",
    "        if path:\n",
    "            for pt in path:\n",
    "                y, x = pt\n",
    "                data[y, x] = 127\n",
    "                    \n",
    "        if startstop:\n",
    "            data[startstop[0][0], startstop[0][1]] = 127+64\n",
    "            data[startstop[1][0], startstop[1][1]] = 64\n",
    "            \n",
    "    else:\n",
    "        cb = True\n",
    "        for i, r in enumerate(grid):\n",
    "            for j, c in enumerate(r):\n",
    "                data[i,j] = c\n",
    "                vmax = c if c > vmax else vmax\n",
    "    \n",
    "    # draw the grid\n",
    "    for x in range(rows+1):\n",
    "        ax.axhline(x, lw=2, color='k', zorder=rows)\n",
    "        \n",
    "    for x in range(cols+1):\n",
    "        ax.axvline(x, lw=2, color='k', zorder=cols)\n",
    "        \n",
    "    # draw the boxes\n",
    "    cax = ax.imshow(\n",
    "        data,\n",
    "        interpolation='none',\n",
    "        cmap=cmap,\n",
    "        extent=[0, cols, 0, rows],\n",
    "        zorder=0)\n",
    "    \n",
    "    # only draw colorbar if we aren't in binary mode\n",
    "    if cb:\n",
    "        fig.colorbar(cax, ticks=range(0, vmax+1, vmax//5))\n",
    "    \n",
    "    # turn off the axis labels\n",
    "    ax.axis('off')\n",
    "    \n",
    "    if title:\n",
    "        ax.set_title(title)\n"
   ]
  },
  {
   "cell_type": "markdown",
   "metadata": {
    "collapsed": true
   },
   "source": [
    "## Breadth First Search or Simple Search\n",
    "\n",
    "This method searches through an entire map and determines the cost of moving from the starting point.\n",
    "\n",
    "`simpmle_search`:\n",
    "\n",
    "- grid: the map\n",
    "- init: the starting point\n",
    "- goal: where you want to get too\n",
    "- cost: movement cost"
   ]
  },
  {
   "cell_type": "code",
   "execution_count": 4,
   "metadata": {},
   "outputs": [],
   "source": [
    "def simple_search(grid,init,goal,cost):\n",
    "    \"\"\"\n",
    "    Perform BFS\n",
    "    grid - our world\n",
    "    init - start location\n",
    "    goal - stop location\n",
    "    cost - cost to move. Note, we are not doing anything complex, \n",
    "           all moves are the same\n",
    "    \"\"\"\n",
    "    \n",
    "    # open and closed are used to keep track of \"have we\n",
    "    # explored this yet?\"\n",
    "    closed = [[0 for row in range(len(grid[0]))] for col in range(len(grid))]\n",
    "    closed[init[0]][init[1]] = 1\n",
    "    \n",
    "    open = [[0, init[0], init[1]]]\n",
    "    \n",
    "    delta = [[-1, 0], # go up\n",
    "             [ 0,-1], # go left\n",
    "             [ 1, 0], # go down\n",
    "             [ 0, 1]] # go right\n",
    "\n",
    "    found = False  # flag that is set when search is complete\n",
    "    resign = False # flag set if we can't find expand\n",
    "    \n",
    "    # if we haven't found our goal yet, then keep looking\n",
    "    while not found and not resign:\n",
    "        if len(open) == 0:\n",
    "            # if we are here, then nothing is left open (or \n",
    "            # everything is explored) and we have not found\n",
    "            # the goal yet\n",
    "            print('<<< Fail: cannot find path to goal >>>')\n",
    "            resign = True\n",
    "        else:\n",
    "            # remove node from list\n",
    "            open.sort()  # sorts from small to large\n",
    "            open.reverse()  # reverses: large to small\n",
    "            next = open.pop()  # removes last element (smallest number)\n",
    "            g, x, y = next\n",
    "            \n",
    "            if x == goal[0] and y == goal[1]:\n",
    "                found = True\n",
    "                print('found:', next)\n",
    "            else:\n",
    "                # cycle through possible movements and record cost for the move\n",
    "                for d in delta:\n",
    "                    x2, y2 = x+d[0], y+d[1]\n",
    "                    if x2 >= 0 and x2 < len(grid) and y2 >= 0 and y2 < len(grid[0]):\n",
    "                        # check unoccupied\n",
    "                        if closed[x2][y2] == 0 and grid[x2][y2] == 0:\n",
    "                            g2 = g + cost  # increment g value\n",
    "                            open.append([g2, x2, y2])\n",
    "                            closed[x2][y2] = g2\n",
    "\n",
    "    return closed"
   ]
  },
  {
   "cell_type": "code",
   "execution_count": 21,
   "metadata": {},
   "outputs": [
    {
     "name": "stdout",
     "output_type": "stream",
     "text": [
      "found: [15, 4, 5]\n",
      "start [0, 0]\n",
      "goal [4, 5]\n",
      "[[4, 5], [3, 5], [2, 5], [1, 5], [1, 4], [1, 3], [2, 3], [3, 3], [4, 3], [4, 2], [4, 1], [3, 1], [3, 0], [2, 0], [1, 0], [0, 0]]\n"
     ]
    },
    {
     "data": {
      "image/png": "[encoded data removed]",
      "text/plain": [
       "<matplotlib.figure.Figure at 0xbc4c330>"
      ]
     },
     "metadata": {},
     "output_type": "display_data"
    },
    {
     "data": {
      "image/png": "[encoded data removed]",
      "text/plain": [
       "<matplotlib.figure.Figure at 0xa5f7810>"
      ]
     },
     "metadata": {},
     "output_type": "display_data"
    },
    {
     "data": {
      "image/png": "[encoded data removed]",
      "text/plain": [
       "<matplotlib.figure.Figure at 0xa214710>"
      ]
     },
     "metadata": {},
     "output_type": "display_data"
    }
   ],
   "source": [
    "# here is our world: 0 open space, 1 is a wall\n",
    "grid = [[0, 0, 1, 0, 0, 0],\n",
    "        [0, 0, 1, 0, 0, 0],\n",
    "        [0, 1, 1, 0, 1, 0],\n",
    "        [0, 0, 1, 0, 1, 0],\n",
    "        [0, 0, 0, 0, 1, 0]\n",
    "       ]\n",
    "\n",
    "init = [0, 0]\n",
    "goal = [4, 5]\n",
    "\n",
    "# goal2 = [len(grid)-1, len(grid[0])-1]\n",
    "\n",
    "drawMap(grid, title='Original Map')\n",
    "cost = simple_search(grid, init, goal, 1)\n",
    "\n",
    "drawMap(cost, cmap='Blues', title='Cost Function')\n",
    "\n",
    "print('start', init)\n",
    "print('goal', goal)\n",
    "path = getPath(cost, goal, init,0)\n",
    "print(path)\n",
    "\n",
    "drawMap(grid, path, title='Simple Path', startstop=[init, goal])"
   ]
  },
  {
   "cell_type": "markdown",
   "metadata": {
    "collapsed": true
   },
   "source": [
    "## A\\*\n",
    "\n",
    "The simple search explores outward to find the goal. However A\\* uses a heuristic to pull the path towards the goal. Again, A\\* does not search the entire map, but focuses on getting **only** to the goal.\n",
    "\n",
    "A\\* is also a classical video game path planner. It is prized for quickly finding good routes from where a character is to where it needs to get too. Initially it was a 2D planner, but various gaming companies have adapted it to 3D. The DARPA Grand Challenge winner (video above) adapted it for a continous (not grid squares) real-time robotic application. In this class, we are going to stick with a simple 2D rectangular world."
   ]
  },
  {
   "cell_type": "code",
   "execution_count": 20,
   "metadata": {},
   "outputs": [],
   "source": [
    "def a_star(grid,init,goal,cost,heuristic):\n",
    "    # keep track of what is open to explore and what has been closed\n",
    "    closed = [[0 for col in range(len(grid[0]))] for row in range(len(grid))]\n",
    "    closed[init[0]][init[1]] = 1\n",
    "\n",
    "    expand = [[-1 for col in range(len(grid[0]))] for row in range(len(grid))]\n",
    "    action = [[-1 for col in range(len(grid[0]))] for row in range(len(grid))]\n",
    "    \n",
    "    \n",
    "    delta = [[-1, 0], # go up\n",
    "             [ 0,-1], # go left\n",
    "             [ 1, 0], # go down\n",
    "             [ 0, 1]] # go right\n",
    "\n",
    "    x, y = init\n",
    "    g = 0\n",
    "    h = heuristic[x][y]\n",
    "    f = g + h\n",
    "\n",
    "    open = [[f, g, x, y]]  # add f\n",
    "\n",
    "    found = False  # flag that is set when search is complete\n",
    "    resign = False # flag set if we can't find expand\n",
    "    count = 0\n",
    "    \n",
    "    while not found and not resign:\n",
    "        if len(open) == 0:\n",
    "            resign = True\n",
    "            return \"Fail\"\n",
    "        else:\n",
    "            open.sort()\n",
    "            open.reverse()\n",
    "            next = open.pop()\n",
    "            x = next[2]\n",
    "            y = next[3]\n",
    "            g = next[1]\n",
    "            expand[x][y] = count\n",
    "            count += 1\n",
    "            \n",
    "            if x == goal[0] and y == goal[1]:\n",
    "                found = True\n",
    "            else:\n",
    "                # expand winning element and add to new open list\n",
    "                for i in range(len(delta)):\n",
    "                    x2 = x + delta[i][0]\n",
    "                    y2 = y + delta[i][1]\n",
    "                    # make sure still on map\n",
    "                    if x2 >= 0 and x2 < len(grid) and y2 >=0 and y2 < len(grid[0]):\n",
    "                        # make sure unoccuppied\n",
    "                        if closed[x2][y2] == 0 and grid[x2][y2] == 0:\n",
    "                            g2 = g + cost\n",
    "                            h2 = heuristic[x2][y2]\n",
    "                            f2 = g2 + h2\n",
    "                            open.append([f2, g2, x2, y2])\n",
    "                            closed[x2][y2] = 1\n",
    "\n",
    "    return expand"
   ]
  },
  {
   "cell_type": "code",
   "execution_count": 22,
   "metadata": {},
   "outputs": [
    {
     "data": {
      "image/png": "[encoded data removed]",
      "text/plain": [
       "<matplotlib.figure.Figure at 0xc43f6f0>"
      ]
     },
     "metadata": {},
     "output_type": "display_data"
    }
   ],
   "source": [
    "def calcHeuristic(grid, goal):\n",
    "    \"\"\"\n",
    "    Basically calculates a gradient decent from a given\n",
    "    goal point. A heuristic can be more complex\n",
    "    \"\"\"\n",
    "    w = len(grid[0])  # width\n",
    "    h = len(grid)     # height\n",
    "    hr = [[(abs(goal[1]-y)+abs(goal[0]-x)) for y in range(w)] for x in range(h)]\n",
    "    return hr\n",
    "\n",
    "g = [3, 3]\n",
    "hr = calcHeuristic(grid, g)\n",
    "drawMap(hr, cmap='Purples', title='Heuristic')"
   ]
  },
  {
   "cell_type": "code",
   "execution_count": 23,
   "metadata": {},
   "outputs": [
    {
     "data": {
      "image/png": "[encoded data removed]",
      "text/plain": [
       "<matplotlib.figure.Figure at 0xc3c12f0>"
      ]
     },
     "metadata": {},
     "output_type": "display_data"
    },
    {
     "data": {
      "image/png": "[encoded data removed]",
      "text/plain": [
       "<matplotlib.figure.Figure at 0xce2d650>"
      ]
     },
     "metadata": {},
     "output_type": "display_data"
    },
    {
     "data": {
      "image/png": "[encoded data removed]",
      "text/plain": [
       "<matplotlib.figure.Figure at 0xaa388d0>"
      ]
     },
     "metadata": {},
     "output_type": "display_data"
    }
   ],
   "source": [
    "grid = [[0, 1, 0, 0, 0, 1],\n",
    "        [0, 1, 1, 0, 0, 0],\n",
    "        [0, 0, 0, 0, 1, 0],\n",
    "        [1, 1, 0, 1, 1, 0],\n",
    "        [0, 0, 0, 0, 1, 0]]\n",
    "\n",
    "# grid = [[0, 0, 0, 0, 1, 0],\n",
    "#         [0, 0, 0, 0, 1, 0],\n",
    "#         [0, 0, 0, 0, 1, 0],\n",
    "#         [0, 1, 1, 1, 1, 0],\n",
    "#         [0, 0, 0, 0, 0, 0]]\n",
    "\n",
    "drawMap(grid)\n",
    "\n",
    "init = [0, 0]\n",
    "goal = [len(grid)-1, len(grid[0])-1]\n",
    "# goal = [len(grid)-2, len(grid[0])-1]\n",
    "\n",
    "heuristic = calcHeuristic(grid, goal)\n",
    "cost = 1\n",
    "\n",
    "ans = a_star(grid,init,goal,cost,heuristic)\n",
    "drawMap(ans, cmap='Blues', title='A star')\n",
    "\n",
    "path = getPath(ans, goal, init)\n",
    "drawMap(grid, path, title='Solution', startstop=[init, goal])\n"
   ]
  },
  {
   "cell_type": "markdown",
   "metadata": {
    "collapsed": true
   },
   "source": [
    "Now the thing to notice is, the heuristic pulls the path planner towards the goal like a rubber band. It drives to search algorithm to the end and avoids exploring unnecessary space in the map. This can be seen in the middle plot, where there are -1's in open space because it wasn't explored."
   ]
  },
  {
   "cell_type": "code",
   "execution_count": 25,
   "metadata": {},
   "outputs": [
    {
     "data": {
      "image/png": "[encoded data removed]",
      "text/plain": [
       "<matplotlib.figure.Figure at 0xaa3bf90>"
      ]
     },
     "metadata": {},
     "output_type": "display_data"
    },
    {
     "data": {
      "image/png": "[encoded data removed]",
      "text/plain": [
       "<matplotlib.figure.Figure at 0xa15d2f0>"
      ]
     },
     "metadata": {},
     "output_type": "display_data"
    },
    {
     "data": {
      "image/png": "[encoded data removed]",
      "text/plain": [
       "<matplotlib.figure.Figure at 0xa1fd8b0>"
      ]
     },
     "metadata": {},
     "output_type": "display_data"
    },
    {
     "data": {
      "image/png": "[encoded data removed]",
      "text/plain": [
       "<matplotlib.figure.Figure at 0xc3ccd90>"
      ]
     },
     "metadata": {},
     "output_type": "display_data"
    }
   ],
   "source": [
    "grid = [[0, 0, 0, 0, 0, 0, 0, 1, 0, 0, 0, 0],\n",
    "        [0, 1, 0, 1, 1, 1, 0, 1, 0, 0, 0, 0],\n",
    "        [0, 1, 1, 1, 0, 0, 0, 1, 0, 0, 0, 0],\n",
    "        [0, 1, 0, 0, 0, 0, 0, 1, 0, 0, 0, 0],\n",
    "        [0, 0, 0, 0, 1, 0, 0, 0, 0, 0, 0, 1],\n",
    "        [0, 1, 0, 1, 1, 1, 0, 0, 0, 0, 1, 0],\n",
    "        [0, 1, 1, 1, 0, 0, 0, 0, 0, 1, 0, 0],\n",
    "        [0, 1, 0, 0, 0, 0, 0, 0, 0, 0, 0, 0]\n",
    "]\n",
    "\n",
    "name = ['A Star', 'Random Hueristic', 'Simple Search']\n",
    "\n",
    "# try changing this between 0-2 to match the above names\n",
    "search_type = 0\n",
    "\n",
    "drawMap(grid, title='Map')\n",
    "\n",
    "init = [3,0]\n",
    "# goal = [len(grid)-1, len(grid[0])-1]\n",
    "goal = [4,6]\n",
    "\n",
    "if search_type == 0:  # gradient decent heuristic\n",
    "    heuristic = calcHeuristic(grid, goal)\n",
    "    drawMap(heuristic, cmap='Blues', title='A Star Heuristic')\n",
    "elif search_type == 1:  # random heuristic\n",
    "    heuristic = np.random.randint(0,8*12, (8,12), np.uint8)\n",
    "    drawMap(heuristic, cmap='Blues', title='Random Heuristic')\n",
    "elif search_type == 2:  # go back to the preivous simple search\n",
    "    heuristic = np.zeros((8,12), dtype=np.uint8)\n",
    "    # WARNING: drawMap doesn't handle a heuristic of all zeros\n",
    "else:\n",
    "    print('Crap ... something went wrong')\n",
    "\n",
    "ans = a_star(grid,init,goal,cost,heuristic)\n",
    "drawMap(ans, cmap='Purples', title=name[search_type])\n",
    "\n",
    "path = getPath(ans, goal, init)\n",
    "drawMap(grid, path, title=name[search_type], startstop=[init, goal])"
   ]
  },
  {
   "cell_type": "markdown",
   "metadata": {},
   "source": [
    "# Exercises\n",
    "\n",
    "- Try changing the start and stop locations and see how the path planner works\n",
    "- Try changing the grid to different sizes/configurations\n",
    "- Try making it impossible to reach the end point\n",
    "\n",
    "# Questions\n",
    "\n",
    "1. What is the purpose of a movement cost?\n",
    "1. What is the purpose of a heuristic?\n",
    "1. What are the differences between the 3 types of path planners discussed here?"
   ]
  },
  {
   "cell_type": "markdown",
   "metadata": {
    "collapsed": true
   },
   "source": [
    "\n",
    "-----------\n",
    "\n",
    "<a rel=\"license\" href=\"http://creativecommons.org/licenses/by-sa/4.0/\"><img alt=\"Creative Commons License\" style=\"border-width:0\" src=\"https://i.creativecommons.org/l/by-sa/4.0/88x31.png\" /></a><br />This work is licensed under a <a rel=\"license\" href=\"http://creativecommons.org/licenses/by-sa/4.0/\">Creative Commons Attribution-ShareAlike 4.0 International License</a>."
   ]
  }
 ],
 "metadata": {
  "kernelspec": {
   "display_name": "Python 2",
   "language": "python",
   "name": "python2"
  },
  "language_info": {
   "codemirror_mode": {
    "name": "ipython",
    "version": 2
   },
   "file_extension": ".py",
   "mimetype": "text/x-python",
   "name": "python",
   "nbconvert_exporter": "python",
   "pygments_lexer": "ipython2",
   "version": "2.7.14"
  }
 },
 "nbformat": 4,
 "nbformat_minor": 2
}
