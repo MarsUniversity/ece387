{
 "cells": [
  {
   "cell_type": "markdown",
   "metadata": {},
   "source": [
    "# Introduction to `numpy` and `sympy` - combine w/matplotlib?\n",
    "\n",
    "Kevin J. Walchko\n",
    "created 5 July 2017\n",
    "\n",
    "---\n",
    "\n",
    "NumPy and pysym are open-source add-on modules to Python that provide common mathematical and numerical routines in pre-compiled, fast functions. These are growing into highly mature packages that provide functionality that meets, or perhaps exceeds, that associated with common commercial software like MatLab. There is little that Matlab can do that python, numpy and other modules can't do too.\n",
    "\n",
    "## Objectives\n",
    "\n",
    "- Understand how to do very basic linear algebra in python\n",
    "- Understand how to do symbolic manipulation in python\n",
    "\n",
    "## References\n",
    "\n",
    "- [numpy tutorial](https://docs.scipy.org/doc/numpy-dev/user/quickstart.html)\n",
    "- [numpy for matlab users](https://docs.scipy.org/doc/numpy-dev/user/numpy-for-matlab-users.html)\n",
    "- [sympy](http://www.sympy.org/en/index.html)\n",
    "- [sympy tutorials](http://docs.sympy.org/latest/tutorial/index.html)\n",
    "\n",
    "## Setup"
   ]
  },
  {
   "cell_type": "code",
   "execution_count": 1,
   "metadata": {},
   "outputs": [],
   "source": [
    "from __future__ import division\n",
    "from __future__ import print_function\n",
    "import numpy as np  # common to rename numpy to np ... because programmers are lazy :)"
   ]
  },
  {
   "cell_type": "markdown",
   "metadata": {},
   "source": [
    "# Numpy\n",
    "\n",
    "First let's do some simple matrix/vector operations, since we will need this for our serial manipulator work. We will also use `numpy` later for OpenCV imagery work, but we will push that off to later when we need it. There are some specific things we need  to understand when working with images that would be best covered right before we need it."
   ]
  },
  {
   "cell_type": "code",
   "execution_count": 6,
   "metadata": {},
   "outputs": [
    {
     "name": "stdout",
     "output_type": "stream",
     "text": [
      "zeros\n",
      " [[ 0.  0.  0.]\n",
      " [ 0.  0.  0.]\n",
      " [ 0.  0.  0.]]\n",
      "ones\n",
      " [[ 1.  1.  1.]\n",
      " [ 1.  1.  1.]\n",
      " [ 1.  1.  1.]]\n",
      "eye\n",
      " [[ 1.  0.  0.]\n",
      " [ 0.  1.  0.]\n",
      " [ 0.  0.  1.]]\n"
     ]
    }
   ],
   "source": [
    "# there are a number of standard matricies used in math/engineering:\n",
    "# zeros = all elements of the matrix are 0\n",
    "z = np.zeros((3,3))\n",
    "print('zeros\\n', z)\n",
    "\n",
    "# ones = all elements of the matrix are 1\n",
    "o = np.ones((3,3))\n",
    "print('ones\\n', o)\n",
    "\n",
    "# eye = this is the identity matrix. Anything multiplied by it comes out the same: A = I * A\n",
    "i = np.eye(3,3) # note, you don't pass a tuple to it ... annoying interface change!!!\n",
    "print('eye\\n', i)"
   ]
  },
  {
   "cell_type": "code",
   "execution_count": 26,
   "metadata": {},
   "outputs": [
    {
     "data": {
      "text/plain": [
       "array([[[ 0.,  0.,  0.,  0.,  0.],\n",
       "        [ 0.,  0.,  0.,  0.,  0.],\n",
       "        [ 0.,  0.,  0.,  0.,  0.],\n",
       "        [ 0.,  0.,  0.,  0.,  0.]],\n",
       "\n",
       "       [[ 0.,  0.,  0.,  0.,  0.],\n",
       "        [ 0.,  0.,  0.,  0.,  0.],\n",
       "        [ 0.,  0.,  0.,  0.,  0.],\n",
       "        [ 0.,  0.,  0.,  0.,  0.]],\n",
       "\n",
       "       [[ 0.,  0.,  0.,  0.,  0.],\n",
       "        [ 0.,  0.,  0.,  0.,  0.],\n",
       "        [ 0.,  0.,  0.,  0.,  0.],\n",
       "        [ 0.,  0.,  0.,  0.,  0.]]])"
      ]
     },
     "execution_count": 26,
     "metadata": {},
     "output_type": "execute_result"
    }
   ],
   "source": [
    "# numpy even works in multiple dimension beyond standard 2x2 matrices\n",
    "np.zeros((3,4,5)) # go on and add some more dimentions like: (3,3,3,3)"
   ]
  },
  {
   "cell_type": "code",
   "execution_count": 7,
   "metadata": {},
   "outputs": [
    {
     "name": "stdout",
     "output_type": "stream",
     "text": [
      "[1 2 3]\n"
     ]
    }
   ],
   "source": [
    "# lets create an array\n",
    "a = np.array([1,2,3])  # you could call this a 3 dimensional vector if you want\n",
    "print(a)"
   ]
  },
  {
   "cell_type": "code",
   "execution_count": 8,
   "metadata": {},
   "outputs": [
    {
     "name": "stdout",
     "output_type": "stream",
     "text": [
      "[[1 2 3]\n",
      " [4 5 6]\n",
      " [6 7 8]]\n",
      "size 9\n",
      "shape (3L, 3L)\n",
      "type int32\n"
     ]
    }
   ],
   "source": [
    "# let's create a matrix\n",
    "m = np.array([\n",
    "    [1,2,3],\n",
    "    [4,5,6],\n",
    "    [6,7,8]\n",
    "])\n",
    "print(m)\n",
    "print('size', m.size)\n",
    "print('shape', m.shape)\n",
    "print('type', m.dtype)"
   ]
  },
  {
   "cell_type": "markdown",
   "metadata": {},
   "source": [
    "Now, generally we don't think about data types with python, but for math (and later working with images in OpenCV) we will. *Note:* you will probably have to prefix these with a namespace like `np`: `np.uint8`. This assumes you did the `import numpy as np`. \n",
    "\n",
    "| Data type\t| Description |\n",
    "|---|:---|\n",
    "| bool_\t| Boolean (True or False) stored as a byte\n",
    "| int_\t| Default integer type (same as C long; normally either int64 or int32)\n",
    "| intc\t| Identical to C int (normally int32 or int64)\n",
    "| intp\t| Integer used for indexing (same as C ssize_t; normally either int32 or int64)\n",
    "| int8\t| Byte (-128 to 127)\n",
    "| int16\t| Integer (-32768 to 32767)\n",
    "| int32\t| Integer (-2147483648 to 2147483647)\n",
    "| int64\t| Integer (-9223372036854775808 to 9223372036854775807)\n",
    "| uint8\t| Unsigned integer (0 to 255)\n",
    "| uint16 | Unsigned integer (0 to 65535)\n",
    "| uint32 | Unsigned integer (0 to 4294967295)\n",
    "| uint64 | Unsigned integer (0 to 18446744073709551615)\n",
    "| float_ | Shorthand for float64.\n",
    "| float16 | Half precision float: sign bit, 5 bits exponent, 10 bits mantissa\n",
    "| float32 | Single precision float: sign bit, 8 bits exponent, 23 bits mantissa\n",
    "| float64 | Double precision float: sign bit, 11 bits exponent, 52 bits mantissa\n",
    "| complex_ | Shorthand for complex128.\n",
    "| complex64\t| Complex number, represented by two 32-bit floats (real and imaginary components)\n",
    "| complex128 | Complex number, represented by two 64-bit floats (real and imaginary components)"
   ]
  },
  {
   "cell_type": "code",
   "execution_count": 9,
   "metadata": {},
   "outputs": [
    {
     "name": "stdout",
     "output_type": "stream",
     "text": [
      "[14 32 44]\n"
     ]
    }
   ],
   "source": [
    "# let's multiply them together\n",
    "v = m.dot(a)\n",
    "print(v)"
   ]
  },
  {
   "cell_type": "code",
   "execution_count": 10,
   "metadata": {},
   "outputs": [
    {
     "name": "stdout",
     "output_type": "stream",
     "text": [
      "first v: 14\n",
      "first m: 1\n",
      "last v: 44\n",
      "last m: 8\n",
      "len(a): 3\n",
      "v.shape: (3L,)\n",
      "m.shape: (3L, 3L)\n"
     ]
    }
   ],
   "source": [
    "# let's access the number of each ... all zero based arrays\n",
    "print('first v:', v[0])\n",
    "print('first m:', m[0,0])\n",
    "\n",
    "# now let's do the last number\n",
    "print('last v:', v[2])\n",
    "print('last m:', m[2,2])\n",
    "\n",
    "# let's get their dimensions\n",
    "print('len(a):', len(v))\n",
    "print('v.shape:', v.shape)\n",
    "print('m.shape:', m.shape)"
   ]
  },
  {
   "cell_type": "code",
   "execution_count": 11,
   "metadata": {},
   "outputs": [
    {
     "name": "stdout",
     "output_type": "stream",
     "text": [
      "[[ 1.          0.          0.        ]\n",
      " [ 0.          0.5         0.        ]\n",
      " [ 0.          0.          0.33333333]]\n",
      "6.0\n",
      "3.74165738677\n"
     ]
    }
   ],
   "source": [
    "n = np.array([\n",
    "    [1,0,0],\n",
    "    [0,2,0],\n",
    "    [0,0,3]\n",
    "])\n",
    "\n",
    "# inverse\n",
    "nn = np.linalg.inv(n)\n",
    "print(nn)\n",
    "\n",
    "# calculate the determinate\n",
    "nn = np.linalg.det(n)\n",
    "print(nn)\n",
    "\n",
    "# calculate the norm\n",
    "nn = np.linalg.norm(n)\n",
    "print(nn)"
   ]
  },
  {
   "cell_type": "code",
   "execution_count": 12,
   "metadata": {},
   "outputs": [
    {
     "name": "stdout",
     "output_type": "stream",
     "text": [
      "in [[ 1.          0.          0.        ]\n",
      " [ 0.          0.5         0.        ]\n",
      " [ 0.          0.          0.33333333]]\n",
      "det 6.0\n",
      "norm 3.74165738677\n"
     ]
    }
   ],
   "source": [
    "# too much typing ... let's shorten it\n",
    "# just becareful not to alias another python function ... python for example\n",
    "# already has a built in abs (absolute) function, but so numpy\n",
    "from numpy.linalg import inv, det, norm\n",
    "\n",
    "# inverse\n",
    "nn = inv(n)\n",
    "print('in', nn)\n",
    "\n",
    "# calculate the determinate\n",
    "nn = det(n)\n",
    "print('det', nn)\n",
    "\n",
    "# calculate the norm\n",
    "nn = norm(n)\n",
    "print('norm', nn)"
   ]
  },
  {
   "cell_type": "code",
   "execution_count": 13,
   "metadata": {},
   "outputs": [
    {
     "name": "stdout",
     "output_type": "stream",
     "text": [
      "m[0, 0] = 1\n",
      "m[0, 1] = 2\n",
      "m[0, 2] = 3\n",
      "m[1, 0] = 4\n",
      "m[1, 1] = 5\n",
      "m[1, 2] = 6\n",
      "m[2, 0] = 6\n",
      "m[2, 1] = 7\n",
      "m[2, 2] = 8\n",
      "\n",
      "[[1 2 3]\n",
      " [4 5 6]\n",
      " [6 7 8]]\n"
     ]
    }
   ],
   "source": [
    "# let's iterate over a matrix and print each value out\n",
    "mm, nn = m.shape\n",
    "for i in range(mm):\n",
    "    for j in range(nn):\n",
    "        print('m[{}, {}] = {}'.format(i,j,m[i,j]))\n",
    "\n",
    "print('')\n",
    "print(m)"
   ]
  },
  {
   "cell_type": "code",
   "execution_count": 14,
   "metadata": {},
   "outputs": [
    {
     "name": "stdout",
     "output_type": "stream",
     "text": [
      "m[0, 0] = 1\n",
      "m[0, 1] = 2\n",
      "m[0, 2] = 3\n",
      "m[1, 0] = 4\n",
      "m[1, 1] = 5\n",
      "m[1, 2] = 6\n",
      "m[2, 0] = 6\n",
      "m[2, 1] = 7\n",
      "m[2, 2] = 8\n"
     ]
    }
   ],
   "source": [
    "# we can do it another way\n",
    "# also, enumerate is a nice way to get a counter\n",
    "for i, r in enumerate(m):\n",
    "    for j, c in enumerate(r):\n",
    "        print('m[{}, {}] = {}'.format(i,j,c))"
   ]
  },
  {
   "cell_type": "markdown",
   "metadata": {},
   "source": [
    "## Documentation\n",
    "\n",
    "If you don't understand what a function does, Google it or (like all python libraries) use the built in help system: `help(numpy.inv)`. \n",
    "\n",
    "You can also find out what is availble in a  package by: `dir(numpy)`. This would list everything in `numpy`. Or if you wanted to know what was in the linear algebra sub-package: `dir(numpy.linalg)`."
   ]
  },
  {
   "cell_type": "markdown",
   "metadata": {
    "collapsed": true
   },
   "source": [
    "# Sympy\n",
    "\n",
    "You can use sympy to manipulate equations symbolically. This will be useful later when we do forward/inverse kinematics."
   ]
  },
  {
   "cell_type": "code",
   "execution_count": 16,
   "metadata": {},
   "outputs": [],
   "source": [
    "from sympy import symbols, sin, cos, pi, simplify"
   ]
  },
  {
   "cell_type": "code",
   "execution_count": 17,
   "metadata": {},
   "outputs": [
    {
     "name": "stdout",
     "output_type": "stream",
     "text": [
      "a + sin(a)**2 + sin(b)/cos(b) + cos(a)**2\n"
     ]
    }
   ],
   "source": [
    "# create some symbols and a symbolic equation\n",
    "a, b = symbols('a b')\n",
    "eqn = sin(a)*sin(a)+cos(a)**2+sin(b)/cos(b) + a\n",
    "print(eqn)"
   ]
  },
  {
   "cell_type": "code",
   "execution_count": 18,
   "metadata": {},
   "outputs": [
    {
     "name": "stdout",
     "output_type": "stream",
     "text": [
      "a + tan(b) + 1\n"
     ]
    }
   ],
   "source": [
    "# simplify the equations\n",
    "# s^2 + c^2 = 1\n",
    "# s/c = tan\n",
    "e = simplify(eqn)\n",
    "print(e)"
   ]
  },
  {
   "cell_type": "code",
   "execution_count": 19,
   "metadata": {},
   "outputs": [
    {
     "name": "stdout",
     "output_type": "stream",
     "text": [
      "1.81496013673848\n"
     ]
    }
   ],
   "source": [
    "# substitute in some numbers for a and b\n",
    "ee=e.subs([(b, 2.0), (a, 3.0)])\n",
    "print(ee)"
   ]
  },
  {
   "cell_type": "code",
   "execution_count": 20,
   "metadata": {},
   "outputs": [
    {
     "data": {
      "text/plain": [
       "1.8149601367384811"
      ]
     },
     "execution_count": 20,
     "metadata": {},
     "output_type": "execute_result"
    }
   ],
   "source": [
    "# this should give us the same answer\n",
    "import math\n",
    "3.0+math.tan(2.0)+1.0"
   ]
  },
  {
   "cell_type": "markdown",
   "metadata": {},
   "source": [
    "\n",
    "-----------\n",
    "\n",
    "<a rel=\"license\" href=\"http://creativecommons.org/licenses/by-sa/4.0/\"><img alt=\"Creative Commons License\" style=\"border-width:0\" src=\"https://i.creativecommons.org/l/by-sa/4.0/88x31.png\" /></a><br />This work is licensed under a <a rel=\"license\" href=\"http://creativecommons.org/licenses/by-sa/4.0/\">Creative Commons Attribution-ShareAlike 4.0 International License</a>."
   ]
  },
  {
   "cell_type": "code",
   "execution_count": null,
   "metadata": {},
   "outputs": [],
   "source": []
  }
 ],
 "metadata": {
  "kernelspec": {
   "display_name": "Python 2",
   "language": "python",
   "name": "python2"
  },
  "language_info": {
   "codemirror_mode": {
    "name": "ipython",
    "version": 2
   },
   "file_extension": ".py",
   "mimetype": "text/x-python",
   "name": "python",
   "nbconvert_exporter": "python",
   "pygments_lexer": "ipython2",
   "version": "2.7.14"
  }
 },
 "nbformat": 4,
 "nbformat_minor": 2
}
