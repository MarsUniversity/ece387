{
 "cells": [
  {
   "cell_type": "markdown",
   "metadata": {},
   "source": [
    "# Practice\n",
    "\n",
    "Kevin J. Walchko, created 19 Nov 2017\n",
    "\n",
    "---\n",
    "\n",
    "Ok, let's practice what we have learned up to this point with python, numpy, matplotlib, and sympy.\n",
    "\n",
    "## Objectives\n",
    "\n",
    "- Apply what we have learned\n",
    "\n",
    "## References\n",
    "\n",
    "- Previous lessons\n",
    "\n",
    "## Setup"
   ]
  },
  {
   "cell_type": "code",
   "execution_count": 2,
   "metadata": {},
   "outputs": [],
   "source": [
    "%matplotlib inline\n",
    "\n",
    "from __future__ import print_function\n",
    "from __future__ import division\n",
    "import numpy as np\n",
    "from matplotlib import pyplot as plt"
   ]
  },
  {
   "cell_type": "markdown",
   "metadata": {},
   "source": [
    "# Let's Play a Game\n",
    "\n",
    "Open up this or another Jupyter notebook and you have 10 minutes to answer your problem. When time expires, you **must** shut your notebook. When called upon, all you can do is run your solution, no more typing."
   ]
  },
  {
   "cell_type": "markdown",
   "metadata": {
    "collapsed": true
   },
   "source": [
    "1. You have the following 2 sensor data values you must plot. Also, ensure to label the axes, turn the grid on and set the title.\n",
    "  ```python\n",
    "  # this just gives you random sensor values\n",
    "  IR1 = np.random.uniform(0,10, size=[0,100])\n",
    "  IR2 = np.random.uniform(0,10, size=[0,100])\n",
    "  ```\n",
    "1. Write a function that returns: 'high' if the arg is greater than 10, 'less' if the arg is less than 5, and 'good' if the arge is equal to or between 5 and 10.\n",
    "1. Write a iterates through a string and prints each letter and its [ascii](http://www.asciitable.com/) decimal value on a new line like this: `a[97]`. Use `ord()` which will convert an ascii character to a decimal value.\n",
    "1. Create a 3x3 identity matrix I, a 3x3 matrix B where all of the values are 127 and a 3x3 matrix A where the values are:\n",
    "  $$\n",
    "  A = \\begin{bmatrix}\n",
    "    1 & 2 & 3 \\\\\n",
    "    1 & 4 & 1 \\\\\n",
    "    3 & 2 & 1\n",
    "  \\end{bmatrix}\n",
    "  $$\n",
    "  Then calculate the result: $1/64 \\cdot I \\cdot B \\cdot (A + A)/I$.\n",
    "  You must show the code for this exact equation, do not simplify.\n",
    "1. Create a function that prints one of 4 emojis based on the inputs: 'happy', 'sad', 'thrilled', 'scared'. Have fun with this one.\n",
    "1. Create a class for a Circle. You should be able to set it's `color` and `radius`. It should have 2 methods that return its `area()` and `circumference()`. Also, when printed, it should output:\n",
    "  ```python\n",
    "  Circle:\n",
    "     color: xxx\n",
    "     radius: xxx\n",
    "  ```\n",
    "  Go ahead and create a Circle and show this. Show the methods returning the answer and print the circle.\n",
    "1. Create the following equation: $\\sin(\\theta)\\cos(\\alpha)\\sin(\\theta) + \\cos(\\theta)^2\\cos(\\alpha) + \\frac{\\sin(\\alpha)}{\\cos(\\alpha)}$. Then use python to simplify it and then substitute in $\\theta$ is 45 deg and $\\alpha$ is 20 deg.\n",
    "1. Given the following code snipet:\n",
    "  ```python\n",
    "  def func(a):\n",
    "    ans = [0,1,2,3,4]\n",
    "    return ans[a]\n",
    "  func(7)\n",
    "  ```\n",
    "  As given, this will fail. Solve this 2 ways:\n",
    "  - Use exception to correct this\n",
    "  - Check the range before accessing the array\n",
    "  For each of the 2 ways, if `a` is out of range, return the first element of a.\n",
    "1. Create a class for a Square. You should be able to set it's `color` and `dimension` (note, the dimensions are a tuple). It should have 2 methods that return its `area()` and `circumference()`. Also, when printed, it should output:\n",
    "  ```python\n",
    "  Square:\n",
    "     color: xxx\n",
    "     dimensions: xxx\n",
    "  ```\n",
    "  Go ahead and create a Square and show this. Show the methods returning the answer and print the square.\n",
    "1. Create a 3x3 zeros matrix Z, a 3x3 matrix C where all of the values are 64 and a 3x3 matrix A where the values are:\n",
    "  $$\n",
    "  A = \\begin{bmatrix}\n",
    "    1 & 2 & 3 \\\\\n",
    "    1 & 4 & 1 \\\\\n",
    "    3 & 2 & 1\n",
    "  \\end{bmatrix}\n",
    "  $$\n",
    "  Then calculate the result: $1/64 \\cdot (Z + A) \\cdot B \\cdot (A + A)$.\n",
    "  You must show the code for this exact equation, do not simplify.\n",
    "1. You have the following 2 sensor data values you must plot. Also, ensure to label the axes, turn the grid on and set the title.\n",
    "  ```python\n",
    "  # this just gives you random sensor values\n",
    "  LeftEncoder = np.random.uniform(0,10, size=[0,100])\n",
    "  RightEncoder = np.random.uniform(0,10, size=[0,100])\n",
    "  ```\n",
    "1. Given the following code snipet:\n",
    "  ```python\n",
    "  def func(a):\n",
    "    ans = {\n",
    "      'bob': 1,\n",
    "      'tom': 2,\n",
    "      'sally': 3\n",
    "    }\n",
    "    return ans[a]\n",
    "  func('john')\n",
    "  ```\n",
    "  As given, this will fail. Solve this 2 ways:\n",
    "  - Use exception to correct this\n",
    "  - Check the range before accessing the array\n",
    "  For each of the 2 ways, if `a` is out of range, return the `bob`.\n",
    "1. Write a function that returns: 'high' if the arg is greater than 100, 'less' if the arg is less than 50, and 'good' if the arge is equal to or between 50 and 100.\n",
    "1. Create a function that prints one of 4 arrows based on the inputs: 'left', 'right', 'up', 'down'. Have fun with this one.\n",
    "1. Write a function when given a string, will turn each letter into its ascii representation (use `ord()` for this) and then returns the sum of the letters. Only count upper and lower case a-z characters, you must ignore non-printing characters and spaces. When we test, we will put these other non-printing characters in."
   ]
  },
  {
   "cell_type": "code",
   "execution_count": 19,
   "metadata": {},
   "outputs": [
    {
     "name": "stdout",
     "output_type": "stream",
     "text": [
      "cos(a) + tan(a)\n",
      "1.30366285505211\n"
     ]
    }
   ],
   "source": [
    "from sympy import symbols, sin, cos, pi, simplify\n",
    "import math\n",
    "\n",
    "a, t = symbols('a t')\n",
    "eqn = sin(t)*cos(a)*sin(t)+cos(a)*cos(t)**2+sin(a)/cos(a)\n",
    "e = simplify(eqn)\n",
    "print(e)\n",
    "print(e.subs([(a, 20*math.pi/180), (t, 45.0*math.pi/180)]))"
   ]
  },
  {
   "cell_type": "markdown",
   "metadata": {},
   "source": [
    "\n",
    "-----------\n",
    "\n",
    "<a rel=\"license\" href=\"http://creativecommons.org/licenses/by-sa/4.0/\"><img alt=\"Creative Commons License\" style=\"border-width:0\" src=\"https://i.creativecommons.org/l/by-sa/4.0/88x31.png\" /></a><br />This work is licensed under a <a rel=\"license\" href=\"http://creativecommons.org/licenses/by-sa/4.0/\">Creative Commons Attribution-ShareAlike 4.0 International License</a>."
   ]
  }
 ],
 "metadata": {
  "kernelspec": {
   "display_name": "Python 2",
   "language": "python",
   "name": "python2"
  },
  "language_info": {
   "codemirror_mode": {
    "name": "ipython",
    "version": 2
   },
   "file_extension": ".py",
   "mimetype": "text/x-python",
   "name": "python",
   "nbconvert_exporter": "python",
   "pygments_lexer": "ipython2",
   "version": "2.7.14"
  }
 },
 "nbformat": 4,
 "nbformat_minor": 2
}
